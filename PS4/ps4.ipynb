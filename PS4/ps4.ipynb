{
 "cells": [
  {
   "cell_type": "code",
   "execution_count": 57,
   "id": "a00f74f2",
   "metadata": {},
   "outputs": [],
   "source": [
    "import numpy as np\n",
    "import pandas as pd\n",
    "import matplotlib.pyplot as plt\n",
    "import seaborn as sns\n",
    "import plotly.express as px\n",
    "import warnings \n",
    "warnings.filterwarnings('ignore')"
   ]
  },
  {
   "cell_type": "code",
   "execution_count": 58,
   "id": "2183dc3e",
   "metadata": {},
   "outputs": [],
   "source": [
    "df=pd.read_csv('ps4.csv')"
   ]
  },
  {
   "cell_type": "code",
   "execution_count": 59,
   "id": "f2cef376",
   "metadata": {},
   "outputs": [
    {
     "data": {
      "text/html": [
       "<div>\n",
       "<style scoped>\n",
       "    .dataframe tbody tr th:only-of-type {\n",
       "        vertical-align: middle;\n",
       "    }\n",
       "\n",
       "    .dataframe tbody tr th {\n",
       "        vertical-align: top;\n",
       "    }\n",
       "\n",
       "    .dataframe thead th {\n",
       "        text-align: right;\n",
       "    }\n",
       "</style>\n",
       "<table border=\"1\" class=\"dataframe\">\n",
       "  <thead>\n",
       "    <tr style=\"text-align: right;\">\n",
       "      <th></th>\n",
       "      <th>ID</th>\n",
       "      <th>GamePSID</th>\n",
       "      <th>GameName</th>\n",
       "      <th>Publisher</th>\n",
       "      <th>ReleaseYear</th>\n",
       "      <th>ReleaseDate</th>\n",
       "      <th>Developer</th>\n",
       "      <th>Genre</th>\n",
       "      <th>Features</th>\n",
       "      <th>Size</th>\n",
       "      <th>Medium</th>\n",
       "      <th>Hardware</th>\n",
       "      <th>CompletionTime(Hours)</th>\n",
       "      <th>is_Digital_game</th>\n",
       "      <th>is_Physical_game</th>\n",
       "      <th>OfficialWebsite</th>\n",
       "    </tr>\n",
       "  </thead>\n",
       "  <tbody>\n",
       "    <tr>\n",
       "      <th>0</th>\n",
       "      <td>1</td>\n",
       "      <td>3045</td>\n",
       "      <td>Q*Bert Rebooted</td>\n",
       "      <td>LOOT Interactive</td>\n",
       "      <td>2015.0</td>\n",
       "      <td>2015-02-17</td>\n",
       "      <td>Gonzo Games</td>\n",
       "      <td>Action</td>\n",
       "      <td>PS Plus, PS Now</td>\n",
       "      <td>109.00</td>\n",
       "      <td>NaN</td>\n",
       "      <td>NaN</td>\n",
       "      <td>NaN</td>\n",
       "      <td>0</td>\n",
       "      <td>0</td>\n",
       "      <td>http://www.sidelineamusements.com/qbert/</td>\n",
       "    </tr>\n",
       "    <tr>\n",
       "      <th>1</th>\n",
       "      <td>2</td>\n",
       "      <td>3051</td>\n",
       "      <td>Q*Bert Rebooted (EU)</td>\n",
       "      <td>LOOT Interactive</td>\n",
       "      <td>2015.0</td>\n",
       "      <td>2015-07-22</td>\n",
       "      <td>LOOT Interactive</td>\n",
       "      <td>Action</td>\n",
       "      <td>PS Now</td>\n",
       "      <td>127.00</td>\n",
       "      <td>Digital only</td>\n",
       "      <td>NaN</td>\n",
       "      <td>NaN</td>\n",
       "      <td>0</td>\n",
       "      <td>0</td>\n",
       "      <td>http://www.sidelineamusements.com/qbert/</td>\n",
       "    </tr>\n",
       "    <tr>\n",
       "      <th>2</th>\n",
       "      <td>3</td>\n",
       "      <td>6703</td>\n",
       "      <td>Q.U.B.E. 2</td>\n",
       "      <td>Trapped Nerve Games</td>\n",
       "      <td>2018.0</td>\n",
       "      <td>2018-03-13</td>\n",
       "      <td>Toxic Games</td>\n",
       "      <td>Puzzle, Platformer</td>\n",
       "      <td>NaN</td>\n",
       "      <td>2682.88</td>\n",
       "      <td>Digital only</td>\n",
       "      <td>NaN</td>\n",
       "      <td>NaN</td>\n",
       "      <td>0</td>\n",
       "      <td>0</td>\n",
       "      <td>http://qube-game.com/</td>\n",
       "    </tr>\n",
       "    <tr>\n",
       "      <th>3</th>\n",
       "      <td>4</td>\n",
       "      <td>3403</td>\n",
       "      <td>Q.U.B.E. Director's Cut</td>\n",
       "      <td>GRIP Digital</td>\n",
       "      <td>2015.0</td>\n",
       "      <td>2015-07-21</td>\n",
       "      <td>Toxic Games</td>\n",
       "      <td>Puzzle, Platformer</td>\n",
       "      <td>PS Plus</td>\n",
       "      <td>1945.60</td>\n",
       "      <td>Digital only</td>\n",
       "      <td>NaN</td>\n",
       "      <td>3-4</td>\n",
       "      <td>0</td>\n",
       "      <td>0</td>\n",
       "      <td>http://qube-game.com/</td>\n",
       "    </tr>\n",
       "    <tr>\n",
       "      <th>4</th>\n",
       "      <td>5</td>\n",
       "      <td>13176</td>\n",
       "      <td>Quake (PS4)</td>\n",
       "      <td>Bethesda Softworks</td>\n",
       "      <td>2021.0</td>\n",
       "      <td>2021-08-19</td>\n",
       "      <td>MachineGames, Nightdive Studios, id Software</td>\n",
       "      <td>First Person Shooter</td>\n",
       "      <td>NaN</td>\n",
       "      <td>NaN</td>\n",
       "      <td>Physical and Digital</td>\n",
       "      <td>NaN</td>\n",
       "      <td>NaN</td>\n",
       "      <td>0</td>\n",
       "      <td>0</td>\n",
       "      <td>https://bethesda.net/en/game/quake</td>\n",
       "    </tr>\n",
       "    <tr>\n",
       "      <th>...</th>\n",
       "      <td>...</td>\n",
       "      <td>...</td>\n",
       "      <td>...</td>\n",
       "      <td>...</td>\n",
       "      <td>...</td>\n",
       "      <td>...</td>\n",
       "      <td>...</td>\n",
       "      <td>...</td>\n",
       "      <td>...</td>\n",
       "      <td>...</td>\n",
       "      <td>...</td>\n",
       "      <td>...</td>\n",
       "      <td>...</td>\n",
       "      <td>...</td>\n",
       "      <td>...</td>\n",
       "      <td>...</td>\n",
       "    </tr>\n",
       "    <tr>\n",
       "      <th>9681</th>\n",
       "      <td>9682</td>\n",
       "      <td>10928</td>\n",
       "      <td>9th Dawn III</td>\n",
       "      <td>Valorware</td>\n",
       "      <td>2020.0</td>\n",
       "      <td>2020-10-06</td>\n",
       "      <td>Valorware</td>\n",
       "      <td>Open World, Action-RPG, Role Playing</td>\n",
       "      <td>NaN</td>\n",
       "      <td>653.00</td>\n",
       "      <td>Physical and Digital</td>\n",
       "      <td>NaN</td>\n",
       "      <td>NaN</td>\n",
       "      <td>0</td>\n",
       "      <td>0</td>\n",
       "      <td>https://valorware.squarespace.com/9th-dawn-iii</td>\n",
       "    </tr>\n",
       "    <tr>\n",
       "      <th>9682</th>\n",
       "      <td>9683</td>\n",
       "      <td>10929</td>\n",
       "      <td>9th Dawn III (EU)</td>\n",
       "      <td>Valorware</td>\n",
       "      <td>2020.0</td>\n",
       "      <td>2020-10-06</td>\n",
       "      <td>Valorware</td>\n",
       "      <td>Open World, Action-RPG, Role Playing</td>\n",
       "      <td>NaN</td>\n",
       "      <td>653.00</td>\n",
       "      <td>Digital only</td>\n",
       "      <td>NaN</td>\n",
       "      <td>NaN</td>\n",
       "      <td>0</td>\n",
       "      <td>0</td>\n",
       "      <td>https://valorware.squarespace.com/9th-dawn-iii</td>\n",
       "    </tr>\n",
       "    <tr>\n",
       "      <th>9683</th>\n",
       "      <td>9684</td>\n",
       "      <td>7114</td>\n",
       "      <td>n Verlore Verstand</td>\n",
       "      <td>Skobbejak Games</td>\n",
       "      <td>2018.0</td>\n",
       "      <td>2018-06-12</td>\n",
       "      <td>Skobbejak Games</td>\n",
       "      <td>Puzzle, Adventure, Platformer</td>\n",
       "      <td>NaN</td>\n",
       "      <td>2170.88</td>\n",
       "      <td>Digital only</td>\n",
       "      <td>NaN</td>\n",
       "      <td>NaN</td>\n",
       "      <td>0</td>\n",
       "      <td>0</td>\n",
       "      <td>http://skobbejakgames.com/n-verlore-verstand/</td>\n",
       "    </tr>\n",
       "    <tr>\n",
       "      <th>9684</th>\n",
       "      <td>9685</td>\n",
       "      <td>7110</td>\n",
       "      <td>n Verlore Verstand (EU)</td>\n",
       "      <td>Skobbejak Games</td>\n",
       "      <td>2018.0</td>\n",
       "      <td>2018-06-12</td>\n",
       "      <td>Skobbejak Games</td>\n",
       "      <td>Puzzle, Adventure, Platformer</td>\n",
       "      <td>NaN</td>\n",
       "      <td>2170.88</td>\n",
       "      <td>Digital only</td>\n",
       "      <td>NaN</td>\n",
       "      <td>NaN</td>\n",
       "      <td>0</td>\n",
       "      <td>0</td>\n",
       "      <td>http://skobbejakgames.com/n-verlore-verstand/</td>\n",
       "    </tr>\n",
       "    <tr>\n",
       "      <th>9685</th>\n",
       "      <td>9686</td>\n",
       "      <td>14118</td>\n",
       "      <td>Klang 2 (JP) (PS4)</td>\n",
       "      <td>Ratalaika Games</td>\n",
       "      <td>2021.0</td>\n",
       "      <td>2021-11-17</td>\n",
       "      <td>Tinimations</td>\n",
       "      <td>NaN</td>\n",
       "      <td>Cross-Buy</td>\n",
       "      <td>NaN</td>\n",
       "      <td>Digital only</td>\n",
       "      <td>NaN</td>\n",
       "      <td>NaN</td>\n",
       "      <td>0</td>\n",
       "      <td>0</td>\n",
       "      <td>NaN</td>\n",
       "    </tr>\n",
       "  </tbody>\n",
       "</table>\n",
       "<p>9686 rows × 16 columns</p>\n",
       "</div>"
      ],
      "text/plain": [
       "        ID  GamePSID                 GameName            Publisher  \\\n",
       "0        1      3045          Q*Bert Rebooted     LOOT Interactive   \n",
       "1        2      3051     Q*Bert Rebooted (EU)     LOOT Interactive   \n",
       "2        3      6703               Q.U.B.E. 2  Trapped Nerve Games   \n",
       "3        4      3403  Q.U.B.E. Director's Cut         GRIP Digital   \n",
       "4        5     13176              Quake (PS4)   Bethesda Softworks   \n",
       "...    ...       ...                      ...                  ...   \n",
       "9681  9682     10928             9th Dawn III            Valorware   \n",
       "9682  9683     10929        9th Dawn III (EU)            Valorware   \n",
       "9683  9684      7114       n Verlore Verstand      Skobbejak Games   \n",
       "9684  9685      7110  n Verlore Verstand (EU)      Skobbejak Games   \n",
       "9685  9686     14118       Klang 2 (JP) (PS4)      Ratalaika Games   \n",
       "\n",
       "      ReleaseYear ReleaseDate                                     Developer  \\\n",
       "0          2015.0  2015-02-17                                   Gonzo Games   \n",
       "1          2015.0  2015-07-22                              LOOT Interactive   \n",
       "2          2018.0  2018-03-13                                   Toxic Games   \n",
       "3          2015.0  2015-07-21                                   Toxic Games   \n",
       "4          2021.0  2021-08-19  MachineGames, Nightdive Studios, id Software   \n",
       "...           ...         ...                                           ...   \n",
       "9681       2020.0  2020-10-06                                     Valorware   \n",
       "9682       2020.0  2020-10-06                                     Valorware   \n",
       "9683       2018.0  2018-06-12                               Skobbejak Games   \n",
       "9684       2018.0  2018-06-12                               Skobbejak Games   \n",
       "9685       2021.0  2021-11-17                                   Tinimations   \n",
       "\n",
       "                                     Genre         Features     Size  \\\n",
       "0                                   Action  PS Plus, PS Now   109.00   \n",
       "1                                   Action           PS Now   127.00   \n",
       "2                       Puzzle, Platformer              NaN  2682.88   \n",
       "3                       Puzzle, Platformer          PS Plus  1945.60   \n",
       "4                     First Person Shooter              NaN      NaN   \n",
       "...                                    ...              ...      ...   \n",
       "9681  Open World, Action-RPG, Role Playing              NaN   653.00   \n",
       "9682  Open World, Action-RPG, Role Playing              NaN   653.00   \n",
       "9683         Puzzle, Adventure, Platformer              NaN  2170.88   \n",
       "9684         Puzzle, Adventure, Platformer              NaN  2170.88   \n",
       "9685                                   NaN        Cross-Buy      NaN   \n",
       "\n",
       "                    Medium Hardware CompletionTime(Hours)  is_Digital_game  \\\n",
       "0                      NaN      NaN                   NaN                0   \n",
       "1             Digital only      NaN                   NaN                0   \n",
       "2             Digital only      NaN                   NaN                0   \n",
       "3             Digital only      NaN                   3-4                0   \n",
       "4     Physical and Digital      NaN                   NaN                0   \n",
       "...                    ...      ...                   ...              ...   \n",
       "9681  Physical and Digital      NaN                   NaN                0   \n",
       "9682          Digital only      NaN                   NaN                0   \n",
       "9683          Digital only      NaN                   NaN                0   \n",
       "9684          Digital only      NaN                   NaN                0   \n",
       "9685          Digital only      NaN                   NaN                0   \n",
       "\n",
       "      is_Physical_game                                 OfficialWebsite  \n",
       "0                    0        http://www.sidelineamusements.com/qbert/  \n",
       "1                    0        http://www.sidelineamusements.com/qbert/  \n",
       "2                    0                           http://qube-game.com/  \n",
       "3                    0                           http://qube-game.com/  \n",
       "4                    0              https://bethesda.net/en/game/quake  \n",
       "...                ...                                             ...  \n",
       "9681                 0  https://valorware.squarespace.com/9th-dawn-iii  \n",
       "9682                 0  https://valorware.squarespace.com/9th-dawn-iii  \n",
       "9683                 0   http://skobbejakgames.com/n-verlore-verstand/  \n",
       "9684                 0   http://skobbejakgames.com/n-verlore-verstand/  \n",
       "9685                 0                                             NaN  \n",
       "\n",
       "[9686 rows x 16 columns]"
      ]
     },
     "execution_count": 59,
     "metadata": {},
     "output_type": "execute_result"
    }
   ],
   "source": [
    "df"
   ]
  },
  {
   "cell_type": "code",
   "execution_count": 60,
   "id": "90f4adb6",
   "metadata": {},
   "outputs": [
    {
     "data": {
      "text/plain": [
       "ID                        0.000000\n",
       "GamePSID                  0.000000\n",
       "GameName                  0.000000\n",
       "Publisher                 7.454057\n",
       "ReleaseYear               7.577948\n",
       "ReleaseDate               7.577948\n",
       "Developer                 7.216601\n",
       "Genre                     8.135453\n",
       "Features                 81.943011\n",
       "Size                     20.854842\n",
       "Medium                    7.732810\n",
       "Hardware                 84.389841\n",
       "CompletionTime(Hours)    76.977080\n",
       "is_Digital_game           0.000000\n",
       "is_Physical_game          0.000000\n",
       "OfficialWebsite          16.487714\n",
       "dtype: float64"
      ]
     },
     "execution_count": 60,
     "metadata": {},
     "output_type": "execute_result"
    }
   ],
   "source": [
    "df.isna().sum()/9686*100"
   ]
  },
  {
   "cell_type": "code",
   "execution_count": 61,
   "id": "4329ed92",
   "metadata": {},
   "outputs": [],
   "source": [
    "df=df.drop(columns=['Features','Hardware','CompletionTime(Hours)','OfficialWebsite'])"
   ]
  },
  {
   "cell_type": "code",
   "execution_count": 62,
   "id": "43662c58",
   "metadata": {},
   "outputs": [
    {
     "data": {
      "text/html": [
       "<div>\n",
       "<style scoped>\n",
       "    .dataframe tbody tr th:only-of-type {\n",
       "        vertical-align: middle;\n",
       "    }\n",
       "\n",
       "    .dataframe tbody tr th {\n",
       "        vertical-align: top;\n",
       "    }\n",
       "\n",
       "    .dataframe thead th {\n",
       "        text-align: right;\n",
       "    }\n",
       "</style>\n",
       "<table border=\"1\" class=\"dataframe\">\n",
       "  <thead>\n",
       "    <tr style=\"text-align: right;\">\n",
       "      <th></th>\n",
       "      <th>ID</th>\n",
       "      <th>GamePSID</th>\n",
       "      <th>GameName</th>\n",
       "      <th>Publisher</th>\n",
       "      <th>ReleaseYear</th>\n",
       "      <th>ReleaseDate</th>\n",
       "      <th>Developer</th>\n",
       "      <th>Genre</th>\n",
       "      <th>Size</th>\n",
       "      <th>Medium</th>\n",
       "      <th>is_Digital_game</th>\n",
       "      <th>is_Physical_game</th>\n",
       "    </tr>\n",
       "  </thead>\n",
       "  <tbody>\n",
       "    <tr>\n",
       "      <th>0</th>\n",
       "      <td>1</td>\n",
       "      <td>3045</td>\n",
       "      <td>Q*Bert Rebooted</td>\n",
       "      <td>LOOT Interactive</td>\n",
       "      <td>2015.0</td>\n",
       "      <td>2015-02-17</td>\n",
       "      <td>Gonzo Games</td>\n",
       "      <td>Action</td>\n",
       "      <td>109.00</td>\n",
       "      <td>NaN</td>\n",
       "      <td>0</td>\n",
       "      <td>0</td>\n",
       "    </tr>\n",
       "    <tr>\n",
       "      <th>1</th>\n",
       "      <td>2</td>\n",
       "      <td>3051</td>\n",
       "      <td>Q*Bert Rebooted (EU)</td>\n",
       "      <td>LOOT Interactive</td>\n",
       "      <td>2015.0</td>\n",
       "      <td>2015-07-22</td>\n",
       "      <td>LOOT Interactive</td>\n",
       "      <td>Action</td>\n",
       "      <td>127.00</td>\n",
       "      <td>Digital only</td>\n",
       "      <td>0</td>\n",
       "      <td>0</td>\n",
       "    </tr>\n",
       "    <tr>\n",
       "      <th>2</th>\n",
       "      <td>3</td>\n",
       "      <td>6703</td>\n",
       "      <td>Q.U.B.E. 2</td>\n",
       "      <td>Trapped Nerve Games</td>\n",
       "      <td>2018.0</td>\n",
       "      <td>2018-03-13</td>\n",
       "      <td>Toxic Games</td>\n",
       "      <td>Puzzle, Platformer</td>\n",
       "      <td>2682.88</td>\n",
       "      <td>Digital only</td>\n",
       "      <td>0</td>\n",
       "      <td>0</td>\n",
       "    </tr>\n",
       "    <tr>\n",
       "      <th>3</th>\n",
       "      <td>4</td>\n",
       "      <td>3403</td>\n",
       "      <td>Q.U.B.E. Director's Cut</td>\n",
       "      <td>GRIP Digital</td>\n",
       "      <td>2015.0</td>\n",
       "      <td>2015-07-21</td>\n",
       "      <td>Toxic Games</td>\n",
       "      <td>Puzzle, Platformer</td>\n",
       "      <td>1945.60</td>\n",
       "      <td>Digital only</td>\n",
       "      <td>0</td>\n",
       "      <td>0</td>\n",
       "    </tr>\n",
       "    <tr>\n",
       "      <th>4</th>\n",
       "      <td>5</td>\n",
       "      <td>13176</td>\n",
       "      <td>Quake (PS4)</td>\n",
       "      <td>Bethesda Softworks</td>\n",
       "      <td>2021.0</td>\n",
       "      <td>2021-08-19</td>\n",
       "      <td>MachineGames, Nightdive Studios, id Software</td>\n",
       "      <td>First Person Shooter</td>\n",
       "      <td>NaN</td>\n",
       "      <td>Physical and Digital</td>\n",
       "      <td>0</td>\n",
       "      <td>0</td>\n",
       "    </tr>\n",
       "    <tr>\n",
       "      <th>...</th>\n",
       "      <td>...</td>\n",
       "      <td>...</td>\n",
       "      <td>...</td>\n",
       "      <td>...</td>\n",
       "      <td>...</td>\n",
       "      <td>...</td>\n",
       "      <td>...</td>\n",
       "      <td>...</td>\n",
       "      <td>...</td>\n",
       "      <td>...</td>\n",
       "      <td>...</td>\n",
       "      <td>...</td>\n",
       "    </tr>\n",
       "    <tr>\n",
       "      <th>9681</th>\n",
       "      <td>9682</td>\n",
       "      <td>10928</td>\n",
       "      <td>9th Dawn III</td>\n",
       "      <td>Valorware</td>\n",
       "      <td>2020.0</td>\n",
       "      <td>2020-10-06</td>\n",
       "      <td>Valorware</td>\n",
       "      <td>Open World, Action-RPG, Role Playing</td>\n",
       "      <td>653.00</td>\n",
       "      <td>Physical and Digital</td>\n",
       "      <td>0</td>\n",
       "      <td>0</td>\n",
       "    </tr>\n",
       "    <tr>\n",
       "      <th>9682</th>\n",
       "      <td>9683</td>\n",
       "      <td>10929</td>\n",
       "      <td>9th Dawn III (EU)</td>\n",
       "      <td>Valorware</td>\n",
       "      <td>2020.0</td>\n",
       "      <td>2020-10-06</td>\n",
       "      <td>Valorware</td>\n",
       "      <td>Open World, Action-RPG, Role Playing</td>\n",
       "      <td>653.00</td>\n",
       "      <td>Digital only</td>\n",
       "      <td>0</td>\n",
       "      <td>0</td>\n",
       "    </tr>\n",
       "    <tr>\n",
       "      <th>9683</th>\n",
       "      <td>9684</td>\n",
       "      <td>7114</td>\n",
       "      <td>n Verlore Verstand</td>\n",
       "      <td>Skobbejak Games</td>\n",
       "      <td>2018.0</td>\n",
       "      <td>2018-06-12</td>\n",
       "      <td>Skobbejak Games</td>\n",
       "      <td>Puzzle, Adventure, Platformer</td>\n",
       "      <td>2170.88</td>\n",
       "      <td>Digital only</td>\n",
       "      <td>0</td>\n",
       "      <td>0</td>\n",
       "    </tr>\n",
       "    <tr>\n",
       "      <th>9684</th>\n",
       "      <td>9685</td>\n",
       "      <td>7110</td>\n",
       "      <td>n Verlore Verstand (EU)</td>\n",
       "      <td>Skobbejak Games</td>\n",
       "      <td>2018.0</td>\n",
       "      <td>2018-06-12</td>\n",
       "      <td>Skobbejak Games</td>\n",
       "      <td>Puzzle, Adventure, Platformer</td>\n",
       "      <td>2170.88</td>\n",
       "      <td>Digital only</td>\n",
       "      <td>0</td>\n",
       "      <td>0</td>\n",
       "    </tr>\n",
       "    <tr>\n",
       "      <th>9685</th>\n",
       "      <td>9686</td>\n",
       "      <td>14118</td>\n",
       "      <td>Klang 2 (JP) (PS4)</td>\n",
       "      <td>Ratalaika Games</td>\n",
       "      <td>2021.0</td>\n",
       "      <td>2021-11-17</td>\n",
       "      <td>Tinimations</td>\n",
       "      <td>NaN</td>\n",
       "      <td>NaN</td>\n",
       "      <td>Digital only</td>\n",
       "      <td>0</td>\n",
       "      <td>0</td>\n",
       "    </tr>\n",
       "  </tbody>\n",
       "</table>\n",
       "<p>9686 rows × 12 columns</p>\n",
       "</div>"
      ],
      "text/plain": [
       "        ID  GamePSID                 GameName            Publisher  \\\n",
       "0        1      3045          Q*Bert Rebooted     LOOT Interactive   \n",
       "1        2      3051     Q*Bert Rebooted (EU)     LOOT Interactive   \n",
       "2        3      6703               Q.U.B.E. 2  Trapped Nerve Games   \n",
       "3        4      3403  Q.U.B.E. Director's Cut         GRIP Digital   \n",
       "4        5     13176              Quake (PS4)   Bethesda Softworks   \n",
       "...    ...       ...                      ...                  ...   \n",
       "9681  9682     10928             9th Dawn III            Valorware   \n",
       "9682  9683     10929        9th Dawn III (EU)            Valorware   \n",
       "9683  9684      7114       n Verlore Verstand      Skobbejak Games   \n",
       "9684  9685      7110  n Verlore Verstand (EU)      Skobbejak Games   \n",
       "9685  9686     14118       Klang 2 (JP) (PS4)      Ratalaika Games   \n",
       "\n",
       "      ReleaseYear ReleaseDate                                     Developer  \\\n",
       "0          2015.0  2015-02-17                                   Gonzo Games   \n",
       "1          2015.0  2015-07-22                              LOOT Interactive   \n",
       "2          2018.0  2018-03-13                                   Toxic Games   \n",
       "3          2015.0  2015-07-21                                   Toxic Games   \n",
       "4          2021.0  2021-08-19  MachineGames, Nightdive Studios, id Software   \n",
       "...           ...         ...                                           ...   \n",
       "9681       2020.0  2020-10-06                                     Valorware   \n",
       "9682       2020.0  2020-10-06                                     Valorware   \n",
       "9683       2018.0  2018-06-12                               Skobbejak Games   \n",
       "9684       2018.0  2018-06-12                               Skobbejak Games   \n",
       "9685       2021.0  2021-11-17                                   Tinimations   \n",
       "\n",
       "                                     Genre     Size                Medium  \\\n",
       "0                                   Action   109.00                   NaN   \n",
       "1                                   Action   127.00          Digital only   \n",
       "2                       Puzzle, Platformer  2682.88          Digital only   \n",
       "3                       Puzzle, Platformer  1945.60          Digital only   \n",
       "4                     First Person Shooter      NaN  Physical and Digital   \n",
       "...                                    ...      ...                   ...   \n",
       "9681  Open World, Action-RPG, Role Playing   653.00  Physical and Digital   \n",
       "9682  Open World, Action-RPG, Role Playing   653.00          Digital only   \n",
       "9683         Puzzle, Adventure, Platformer  2170.88          Digital only   \n",
       "9684         Puzzle, Adventure, Platformer  2170.88          Digital only   \n",
       "9685                                   NaN      NaN          Digital only   \n",
       "\n",
       "      is_Digital_game  is_Physical_game  \n",
       "0                   0                 0  \n",
       "1                   0                 0  \n",
       "2                   0                 0  \n",
       "3                   0                 0  \n",
       "4                   0                 0  \n",
       "...               ...               ...  \n",
       "9681                0                 0  \n",
       "9682                0                 0  \n",
       "9683                0                 0  \n",
       "9684                0                 0  \n",
       "9685                0                 0  \n",
       "\n",
       "[9686 rows x 12 columns]"
      ]
     },
     "execution_count": 62,
     "metadata": {},
     "output_type": "execute_result"
    }
   ],
   "source": [
    "df"
   ]
  },
  {
   "cell_type": "code",
   "execution_count": 63,
   "id": "18ce6b2f",
   "metadata": {},
   "outputs": [],
   "source": [
    "df=df.drop(columns=['is_Physical_game','is_Digital_game'])"
   ]
  },
  {
   "cell_type": "code",
   "execution_count": 64,
   "id": "0d1c3276",
   "metadata": {},
   "outputs": [
    {
     "data": {
      "text/html": [
       "<div>\n",
       "<style scoped>\n",
       "    .dataframe tbody tr th:only-of-type {\n",
       "        vertical-align: middle;\n",
       "    }\n",
       "\n",
       "    .dataframe tbody tr th {\n",
       "        vertical-align: top;\n",
       "    }\n",
       "\n",
       "    .dataframe thead th {\n",
       "        text-align: right;\n",
       "    }\n",
       "</style>\n",
       "<table border=\"1\" class=\"dataframe\">\n",
       "  <thead>\n",
       "    <tr style=\"text-align: right;\">\n",
       "      <th></th>\n",
       "      <th>ID</th>\n",
       "      <th>GamePSID</th>\n",
       "      <th>GameName</th>\n",
       "      <th>Publisher</th>\n",
       "      <th>ReleaseYear</th>\n",
       "      <th>ReleaseDate</th>\n",
       "      <th>Developer</th>\n",
       "      <th>Genre</th>\n",
       "      <th>Size</th>\n",
       "      <th>Medium</th>\n",
       "    </tr>\n",
       "  </thead>\n",
       "  <tbody>\n",
       "    <tr>\n",
       "      <th>0</th>\n",
       "      <td>1</td>\n",
       "      <td>3045</td>\n",
       "      <td>Q*Bert Rebooted</td>\n",
       "      <td>LOOT Interactive</td>\n",
       "      <td>2015.0</td>\n",
       "      <td>2015-02-17</td>\n",
       "      <td>Gonzo Games</td>\n",
       "      <td>Action</td>\n",
       "      <td>109.00</td>\n",
       "      <td>NaN</td>\n",
       "    </tr>\n",
       "    <tr>\n",
       "      <th>1</th>\n",
       "      <td>2</td>\n",
       "      <td>3051</td>\n",
       "      <td>Q*Bert Rebooted (EU)</td>\n",
       "      <td>LOOT Interactive</td>\n",
       "      <td>2015.0</td>\n",
       "      <td>2015-07-22</td>\n",
       "      <td>LOOT Interactive</td>\n",
       "      <td>Action</td>\n",
       "      <td>127.00</td>\n",
       "      <td>Digital only</td>\n",
       "    </tr>\n",
       "    <tr>\n",
       "      <th>2</th>\n",
       "      <td>3</td>\n",
       "      <td>6703</td>\n",
       "      <td>Q.U.B.E. 2</td>\n",
       "      <td>Trapped Nerve Games</td>\n",
       "      <td>2018.0</td>\n",
       "      <td>2018-03-13</td>\n",
       "      <td>Toxic Games</td>\n",
       "      <td>Puzzle, Platformer</td>\n",
       "      <td>2682.88</td>\n",
       "      <td>Digital only</td>\n",
       "    </tr>\n",
       "    <tr>\n",
       "      <th>3</th>\n",
       "      <td>4</td>\n",
       "      <td>3403</td>\n",
       "      <td>Q.U.B.E. Director's Cut</td>\n",
       "      <td>GRIP Digital</td>\n",
       "      <td>2015.0</td>\n",
       "      <td>2015-07-21</td>\n",
       "      <td>Toxic Games</td>\n",
       "      <td>Puzzle, Platformer</td>\n",
       "      <td>1945.60</td>\n",
       "      <td>Digital only</td>\n",
       "    </tr>\n",
       "    <tr>\n",
       "      <th>4</th>\n",
       "      <td>5</td>\n",
       "      <td>13176</td>\n",
       "      <td>Quake (PS4)</td>\n",
       "      <td>Bethesda Softworks</td>\n",
       "      <td>2021.0</td>\n",
       "      <td>2021-08-19</td>\n",
       "      <td>MachineGames, Nightdive Studios, id Software</td>\n",
       "      <td>First Person Shooter</td>\n",
       "      <td>NaN</td>\n",
       "      <td>Physical and Digital</td>\n",
       "    </tr>\n",
       "    <tr>\n",
       "      <th>...</th>\n",
       "      <td>...</td>\n",
       "      <td>...</td>\n",
       "      <td>...</td>\n",
       "      <td>...</td>\n",
       "      <td>...</td>\n",
       "      <td>...</td>\n",
       "      <td>...</td>\n",
       "      <td>...</td>\n",
       "      <td>...</td>\n",
       "      <td>...</td>\n",
       "    </tr>\n",
       "    <tr>\n",
       "      <th>9681</th>\n",
       "      <td>9682</td>\n",
       "      <td>10928</td>\n",
       "      <td>9th Dawn III</td>\n",
       "      <td>Valorware</td>\n",
       "      <td>2020.0</td>\n",
       "      <td>2020-10-06</td>\n",
       "      <td>Valorware</td>\n",
       "      <td>Open World, Action-RPG, Role Playing</td>\n",
       "      <td>653.00</td>\n",
       "      <td>Physical and Digital</td>\n",
       "    </tr>\n",
       "    <tr>\n",
       "      <th>9682</th>\n",
       "      <td>9683</td>\n",
       "      <td>10929</td>\n",
       "      <td>9th Dawn III (EU)</td>\n",
       "      <td>Valorware</td>\n",
       "      <td>2020.0</td>\n",
       "      <td>2020-10-06</td>\n",
       "      <td>Valorware</td>\n",
       "      <td>Open World, Action-RPG, Role Playing</td>\n",
       "      <td>653.00</td>\n",
       "      <td>Digital only</td>\n",
       "    </tr>\n",
       "    <tr>\n",
       "      <th>9683</th>\n",
       "      <td>9684</td>\n",
       "      <td>7114</td>\n",
       "      <td>n Verlore Verstand</td>\n",
       "      <td>Skobbejak Games</td>\n",
       "      <td>2018.0</td>\n",
       "      <td>2018-06-12</td>\n",
       "      <td>Skobbejak Games</td>\n",
       "      <td>Puzzle, Adventure, Platformer</td>\n",
       "      <td>2170.88</td>\n",
       "      <td>Digital only</td>\n",
       "    </tr>\n",
       "    <tr>\n",
       "      <th>9684</th>\n",
       "      <td>9685</td>\n",
       "      <td>7110</td>\n",
       "      <td>n Verlore Verstand (EU)</td>\n",
       "      <td>Skobbejak Games</td>\n",
       "      <td>2018.0</td>\n",
       "      <td>2018-06-12</td>\n",
       "      <td>Skobbejak Games</td>\n",
       "      <td>Puzzle, Adventure, Platformer</td>\n",
       "      <td>2170.88</td>\n",
       "      <td>Digital only</td>\n",
       "    </tr>\n",
       "    <tr>\n",
       "      <th>9685</th>\n",
       "      <td>9686</td>\n",
       "      <td>14118</td>\n",
       "      <td>Klang 2 (JP) (PS4)</td>\n",
       "      <td>Ratalaika Games</td>\n",
       "      <td>2021.0</td>\n",
       "      <td>2021-11-17</td>\n",
       "      <td>Tinimations</td>\n",
       "      <td>NaN</td>\n",
       "      <td>NaN</td>\n",
       "      <td>Digital only</td>\n",
       "    </tr>\n",
       "  </tbody>\n",
       "</table>\n",
       "<p>9686 rows × 10 columns</p>\n",
       "</div>"
      ],
      "text/plain": [
       "        ID  GamePSID                 GameName            Publisher  \\\n",
       "0        1      3045          Q*Bert Rebooted     LOOT Interactive   \n",
       "1        2      3051     Q*Bert Rebooted (EU)     LOOT Interactive   \n",
       "2        3      6703               Q.U.B.E. 2  Trapped Nerve Games   \n",
       "3        4      3403  Q.U.B.E. Director's Cut         GRIP Digital   \n",
       "4        5     13176              Quake (PS4)   Bethesda Softworks   \n",
       "...    ...       ...                      ...                  ...   \n",
       "9681  9682     10928             9th Dawn III            Valorware   \n",
       "9682  9683     10929        9th Dawn III (EU)            Valorware   \n",
       "9683  9684      7114       n Verlore Verstand      Skobbejak Games   \n",
       "9684  9685      7110  n Verlore Verstand (EU)      Skobbejak Games   \n",
       "9685  9686     14118       Klang 2 (JP) (PS4)      Ratalaika Games   \n",
       "\n",
       "      ReleaseYear ReleaseDate                                     Developer  \\\n",
       "0          2015.0  2015-02-17                                   Gonzo Games   \n",
       "1          2015.0  2015-07-22                              LOOT Interactive   \n",
       "2          2018.0  2018-03-13                                   Toxic Games   \n",
       "3          2015.0  2015-07-21                                   Toxic Games   \n",
       "4          2021.0  2021-08-19  MachineGames, Nightdive Studios, id Software   \n",
       "...           ...         ...                                           ...   \n",
       "9681       2020.0  2020-10-06                                     Valorware   \n",
       "9682       2020.0  2020-10-06                                     Valorware   \n",
       "9683       2018.0  2018-06-12                               Skobbejak Games   \n",
       "9684       2018.0  2018-06-12                               Skobbejak Games   \n",
       "9685       2021.0  2021-11-17                                   Tinimations   \n",
       "\n",
       "                                     Genre     Size                Medium  \n",
       "0                                   Action   109.00                   NaN  \n",
       "1                                   Action   127.00          Digital only  \n",
       "2                       Puzzle, Platformer  2682.88          Digital only  \n",
       "3                       Puzzle, Platformer  1945.60          Digital only  \n",
       "4                     First Person Shooter      NaN  Physical and Digital  \n",
       "...                                    ...      ...                   ...  \n",
       "9681  Open World, Action-RPG, Role Playing   653.00  Physical and Digital  \n",
       "9682  Open World, Action-RPG, Role Playing   653.00          Digital only  \n",
       "9683         Puzzle, Adventure, Platformer  2170.88          Digital only  \n",
       "9684         Puzzle, Adventure, Platformer  2170.88          Digital only  \n",
       "9685                                   NaN      NaN          Digital only  \n",
       "\n",
       "[9686 rows x 10 columns]"
      ]
     },
     "execution_count": 64,
     "metadata": {},
     "output_type": "execute_result"
    }
   ],
   "source": [
    "df"
   ]
  },
  {
   "cell_type": "code",
   "execution_count": 65,
   "id": "a880b691",
   "metadata": {},
   "outputs": [],
   "source": [
    "df=df.dropna()"
   ]
  },
  {
   "cell_type": "code",
   "execution_count": 66,
   "id": "5862a903",
   "metadata": {},
   "outputs": [
    {
     "data": {
      "text/plain": [
       "ID             0\n",
       "GamePSID       0\n",
       "GameName       0\n",
       "Publisher      0\n",
       "ReleaseYear    0\n",
       "ReleaseDate    0\n",
       "Developer      0\n",
       "Genre          0\n",
       "Size           0\n",
       "Medium         0\n",
       "dtype: int64"
      ]
     },
     "execution_count": 66,
     "metadata": {},
     "output_type": "execute_result"
    }
   ],
   "source": [
    "df.isna().sum()"
   ]
  },
  {
   "cell_type": "markdown",
   "id": "9f18e19a",
   "metadata": {},
   "source": [
    "# maximum no. of game belongs to which genre"
   ]
  },
  {
   "cell_type": "code",
   "execution_count": 67,
   "id": "a542d0d5",
   "metadata": {},
   "outputs": [],
   "source": [
    "Genre=df['Genre'].value_counts().reset_index().head(10)"
   ]
  },
  {
   "cell_type": "code",
   "execution_count": 68,
   "id": "a9c33ba6",
   "metadata": {},
   "outputs": [
    {
     "data": {
      "application/vnd.plotly.v1+json": {
       "config": {
        "plotlyServerURL": "https://plot.ly"
       },
       "data": [
        {
         "alignmentgroup": "True",
         "hovertemplate": "index=%{x}<br>Genre=%{y}<extra></extra>",
         "legendgroup": "Platformer",
         "marker": {
          "color": "#636efa",
          "pattern": {
           "shape": ""
          }
         },
         "name": "Platformer",
         "offsetgroup": "Platformer",
         "orientation": "v",
         "showlegend": true,
         "textposition": "auto",
         "type": "bar",
         "x": [
          "Platformer"
         ],
         "xaxis": "x",
         "y": [
          594
         ],
         "yaxis": "y"
        },
        {
         "alignmentgroup": "True",
         "hovertemplate": "index=%{x}<br>Genre=%{y}<extra></extra>",
         "legendgroup": "Puzzle",
         "marker": {
          "color": "#EF553B",
          "pattern": {
           "shape": ""
          }
         },
         "name": "Puzzle",
         "offsetgroup": "Puzzle",
         "orientation": "v",
         "showlegend": true,
         "textposition": "auto",
         "type": "bar",
         "x": [
          "Puzzle"
         ],
         "xaxis": "x",
         "y": [
          482
         ],
         "yaxis": "y"
        },
        {
         "alignmentgroup": "True",
         "hovertemplate": "index=%{x}<br>Genre=%{y}<extra></extra>",
         "legendgroup": "Action",
         "marker": {
          "color": "#00cc96",
          "pattern": {
           "shape": ""
          }
         },
         "name": "Action",
         "offsetgroup": "Action",
         "orientation": "v",
         "showlegend": true,
         "textposition": "auto",
         "type": "bar",
         "x": [
          "Action"
         ],
         "xaxis": "x",
         "y": [
          440
         ],
         "yaxis": "y"
        },
        {
         "alignmentgroup": "True",
         "hovertemplate": "index=%{x}<br>Genre=%{y}<extra></extra>",
         "legendgroup": "Shoot 'em up",
         "marker": {
          "color": "#ab63fa",
          "pattern": {
           "shape": ""
          }
         },
         "name": "Shoot 'em up",
         "offsetgroup": "Shoot 'em up",
         "orientation": "v",
         "showlegend": true,
         "textposition": "auto",
         "type": "bar",
         "x": [
          "Shoot 'em up"
         ],
         "xaxis": "x",
         "y": [
          429
         ],
         "yaxis": "y"
        },
        {
         "alignmentgroup": "True",
         "hovertemplate": "index=%{x}<br>Genre=%{y}<extra></extra>",
         "legendgroup": "Adventure",
         "marker": {
          "color": "#FFA15A",
          "pattern": {
           "shape": ""
          }
         },
         "name": "Adventure",
         "offsetgroup": "Adventure",
         "orientation": "v",
         "showlegend": true,
         "textposition": "auto",
         "type": "bar",
         "x": [
          "Adventure"
         ],
         "xaxis": "x",
         "y": [
          373
         ],
         "yaxis": "y"
        },
        {
         "alignmentgroup": "True",
         "hovertemplate": "index=%{x}<br>Genre=%{y}<extra></extra>",
         "legendgroup": "Visual Novel",
         "marker": {
          "color": "#19d3f3",
          "pattern": {
           "shape": ""
          }
         },
         "name": "Visual Novel",
         "offsetgroup": "Visual Novel",
         "orientation": "v",
         "showlegend": true,
         "textposition": "auto",
         "type": "bar",
         "x": [
          "Visual Novel"
         ],
         "xaxis": "x",
         "y": [
          316
         ],
         "yaxis": "y"
        },
        {
         "alignmentgroup": "True",
         "hovertemplate": "index=%{x}<br>Genre=%{y}<extra></extra>",
         "legendgroup": "Action-Adventure",
         "marker": {
          "color": "#FF6692",
          "pattern": {
           "shape": ""
          }
         },
         "name": "Action-Adventure",
         "offsetgroup": "Action-Adventure",
         "orientation": "v",
         "showlegend": true,
         "textposition": "auto",
         "type": "bar",
         "x": [
          "Action-Adventure"
         ],
         "xaxis": "x",
         "y": [
          302
         ],
         "yaxis": "y"
        },
        {
         "alignmentgroup": "True",
         "hovertemplate": "index=%{x}<br>Genre=%{y}<extra></extra>",
         "legendgroup": "Adventure, Point & Click",
         "marker": {
          "color": "#B6E880",
          "pattern": {
           "shape": ""
          }
         },
         "name": "Adventure, Point & Click",
         "offsetgroup": "Adventure, Point & Click",
         "orientation": "v",
         "showlegend": true,
         "textposition": "auto",
         "type": "bar",
         "x": [
          "Adventure, Point & Click"
         ],
         "xaxis": "x",
         "y": [
          218
         ],
         "yaxis": "y"
        },
        {
         "alignmentgroup": "True",
         "hovertemplate": "index=%{x}<br>Genre=%{y}<extra></extra>",
         "legendgroup": "Action-RPG, Role Playing",
         "marker": {
          "color": "#FF97FF",
          "pattern": {
           "shape": ""
          }
         },
         "name": "Action-RPG, Role Playing",
         "offsetgroup": "Action-RPG, Role Playing",
         "orientation": "v",
         "showlegend": true,
         "textposition": "auto",
         "type": "bar",
         "x": [
          "Action-RPG, Role Playing"
         ],
         "xaxis": "x",
         "y": [
          199
         ],
         "yaxis": "y"
        },
        {
         "alignmentgroup": "True",
         "hovertemplate": "index=%{x}<br>Genre=%{y}<extra></extra>",
         "legendgroup": "Role Playing, Turn Based",
         "marker": {
          "color": "#FECB52",
          "pattern": {
           "shape": ""
          }
         },
         "name": "Role Playing, Turn Based",
         "offsetgroup": "Role Playing, Turn Based",
         "orientation": "v",
         "showlegend": true,
         "textposition": "auto",
         "type": "bar",
         "x": [
          "Role Playing, Turn Based"
         ],
         "xaxis": "x",
         "y": [
          197
         ],
         "yaxis": "y"
        }
       ],
       "layout": {
        "barmode": "relative",
        "legend": {
         "title": {
          "text": "index"
         },
         "tracegroupgap": 0
        },
        "margin": {
         "t": 60
        },
        "template": {
         "data": {
          "bar": [
           {
            "error_x": {
             "color": "#2a3f5f"
            },
            "error_y": {
             "color": "#2a3f5f"
            },
            "marker": {
             "line": {
              "color": "#E5ECF6",
              "width": 0.5
             },
             "pattern": {
              "fillmode": "overlay",
              "size": 10,
              "solidity": 0.2
             }
            },
            "type": "bar"
           }
          ],
          "barpolar": [
           {
            "marker": {
             "line": {
              "color": "#E5ECF6",
              "width": 0.5
             },
             "pattern": {
              "fillmode": "overlay",
              "size": 10,
              "solidity": 0.2
             }
            },
            "type": "barpolar"
           }
          ],
          "carpet": [
           {
            "aaxis": {
             "endlinecolor": "#2a3f5f",
             "gridcolor": "white",
             "linecolor": "white",
             "minorgridcolor": "white",
             "startlinecolor": "#2a3f5f"
            },
            "baxis": {
             "endlinecolor": "#2a3f5f",
             "gridcolor": "white",
             "linecolor": "white",
             "minorgridcolor": "white",
             "startlinecolor": "#2a3f5f"
            },
            "type": "carpet"
           }
          ],
          "choropleth": [
           {
            "colorbar": {
             "outlinewidth": 0,
             "ticks": ""
            },
            "type": "choropleth"
           }
          ],
          "contour": [
           {
            "colorbar": {
             "outlinewidth": 0,
             "ticks": ""
            },
            "colorscale": [
             [
              0,
              "#0d0887"
             ],
             [
              0.1111111111111111,
              "#46039f"
             ],
             [
              0.2222222222222222,
              "#7201a8"
             ],
             [
              0.3333333333333333,
              "#9c179e"
             ],
             [
              0.4444444444444444,
              "#bd3786"
             ],
             [
              0.5555555555555556,
              "#d8576b"
             ],
             [
              0.6666666666666666,
              "#ed7953"
             ],
             [
              0.7777777777777778,
              "#fb9f3a"
             ],
             [
              0.8888888888888888,
              "#fdca26"
             ],
             [
              1,
              "#f0f921"
             ]
            ],
            "type": "contour"
           }
          ],
          "contourcarpet": [
           {
            "colorbar": {
             "outlinewidth": 0,
             "ticks": ""
            },
            "type": "contourcarpet"
           }
          ],
          "heatmap": [
           {
            "colorbar": {
             "outlinewidth": 0,
             "ticks": ""
            },
            "colorscale": [
             [
              0,
              "#0d0887"
             ],
             [
              0.1111111111111111,
              "#46039f"
             ],
             [
              0.2222222222222222,
              "#7201a8"
             ],
             [
              0.3333333333333333,
              "#9c179e"
             ],
             [
              0.4444444444444444,
              "#bd3786"
             ],
             [
              0.5555555555555556,
              "#d8576b"
             ],
             [
              0.6666666666666666,
              "#ed7953"
             ],
             [
              0.7777777777777778,
              "#fb9f3a"
             ],
             [
              0.8888888888888888,
              "#fdca26"
             ],
             [
              1,
              "#f0f921"
             ]
            ],
            "type": "heatmap"
           }
          ],
          "heatmapgl": [
           {
            "colorbar": {
             "outlinewidth": 0,
             "ticks": ""
            },
            "colorscale": [
             [
              0,
              "#0d0887"
             ],
             [
              0.1111111111111111,
              "#46039f"
             ],
             [
              0.2222222222222222,
              "#7201a8"
             ],
             [
              0.3333333333333333,
              "#9c179e"
             ],
             [
              0.4444444444444444,
              "#bd3786"
             ],
             [
              0.5555555555555556,
              "#d8576b"
             ],
             [
              0.6666666666666666,
              "#ed7953"
             ],
             [
              0.7777777777777778,
              "#fb9f3a"
             ],
             [
              0.8888888888888888,
              "#fdca26"
             ],
             [
              1,
              "#f0f921"
             ]
            ],
            "type": "heatmapgl"
           }
          ],
          "histogram": [
           {
            "marker": {
             "pattern": {
              "fillmode": "overlay",
              "size": 10,
              "solidity": 0.2
             }
            },
            "type": "histogram"
           }
          ],
          "histogram2d": [
           {
            "colorbar": {
             "outlinewidth": 0,
             "ticks": ""
            },
            "colorscale": [
             [
              0,
              "#0d0887"
             ],
             [
              0.1111111111111111,
              "#46039f"
             ],
             [
              0.2222222222222222,
              "#7201a8"
             ],
             [
              0.3333333333333333,
              "#9c179e"
             ],
             [
              0.4444444444444444,
              "#bd3786"
             ],
             [
              0.5555555555555556,
              "#d8576b"
             ],
             [
              0.6666666666666666,
              "#ed7953"
             ],
             [
              0.7777777777777778,
              "#fb9f3a"
             ],
             [
              0.8888888888888888,
              "#fdca26"
             ],
             [
              1,
              "#f0f921"
             ]
            ],
            "type": "histogram2d"
           }
          ],
          "histogram2dcontour": [
           {
            "colorbar": {
             "outlinewidth": 0,
             "ticks": ""
            },
            "colorscale": [
             [
              0,
              "#0d0887"
             ],
             [
              0.1111111111111111,
              "#46039f"
             ],
             [
              0.2222222222222222,
              "#7201a8"
             ],
             [
              0.3333333333333333,
              "#9c179e"
             ],
             [
              0.4444444444444444,
              "#bd3786"
             ],
             [
              0.5555555555555556,
              "#d8576b"
             ],
             [
              0.6666666666666666,
              "#ed7953"
             ],
             [
              0.7777777777777778,
              "#fb9f3a"
             ],
             [
              0.8888888888888888,
              "#fdca26"
             ],
             [
              1,
              "#f0f921"
             ]
            ],
            "type": "histogram2dcontour"
           }
          ],
          "mesh3d": [
           {
            "colorbar": {
             "outlinewidth": 0,
             "ticks": ""
            },
            "type": "mesh3d"
           }
          ],
          "parcoords": [
           {
            "line": {
             "colorbar": {
              "outlinewidth": 0,
              "ticks": ""
             }
            },
            "type": "parcoords"
           }
          ],
          "pie": [
           {
            "automargin": true,
            "type": "pie"
           }
          ],
          "scatter": [
           {
            "marker": {
             "colorbar": {
              "outlinewidth": 0,
              "ticks": ""
             }
            },
            "type": "scatter"
           }
          ],
          "scatter3d": [
           {
            "line": {
             "colorbar": {
              "outlinewidth": 0,
              "ticks": ""
             }
            },
            "marker": {
             "colorbar": {
              "outlinewidth": 0,
              "ticks": ""
             }
            },
            "type": "scatter3d"
           }
          ],
          "scattercarpet": [
           {
            "marker": {
             "colorbar": {
              "outlinewidth": 0,
              "ticks": ""
             }
            },
            "type": "scattercarpet"
           }
          ],
          "scattergeo": [
           {
            "marker": {
             "colorbar": {
              "outlinewidth": 0,
              "ticks": ""
             }
            },
            "type": "scattergeo"
           }
          ],
          "scattergl": [
           {
            "marker": {
             "colorbar": {
              "outlinewidth": 0,
              "ticks": ""
             }
            },
            "type": "scattergl"
           }
          ],
          "scattermapbox": [
           {
            "marker": {
             "colorbar": {
              "outlinewidth": 0,
              "ticks": ""
             }
            },
            "type": "scattermapbox"
           }
          ],
          "scatterpolar": [
           {
            "marker": {
             "colorbar": {
              "outlinewidth": 0,
              "ticks": ""
             }
            },
            "type": "scatterpolar"
           }
          ],
          "scatterpolargl": [
           {
            "marker": {
             "colorbar": {
              "outlinewidth": 0,
              "ticks": ""
             }
            },
            "type": "scatterpolargl"
           }
          ],
          "scatterternary": [
           {
            "marker": {
             "colorbar": {
              "outlinewidth": 0,
              "ticks": ""
             }
            },
            "type": "scatterternary"
           }
          ],
          "surface": [
           {
            "colorbar": {
             "outlinewidth": 0,
             "ticks": ""
            },
            "colorscale": [
             [
              0,
              "#0d0887"
             ],
             [
              0.1111111111111111,
              "#46039f"
             ],
             [
              0.2222222222222222,
              "#7201a8"
             ],
             [
              0.3333333333333333,
              "#9c179e"
             ],
             [
              0.4444444444444444,
              "#bd3786"
             ],
             [
              0.5555555555555556,
              "#d8576b"
             ],
             [
              0.6666666666666666,
              "#ed7953"
             ],
             [
              0.7777777777777778,
              "#fb9f3a"
             ],
             [
              0.8888888888888888,
              "#fdca26"
             ],
             [
              1,
              "#f0f921"
             ]
            ],
            "type": "surface"
           }
          ],
          "table": [
           {
            "cells": {
             "fill": {
              "color": "#EBF0F8"
             },
             "line": {
              "color": "white"
             }
            },
            "header": {
             "fill": {
              "color": "#C8D4E3"
             },
             "line": {
              "color": "white"
             }
            },
            "type": "table"
           }
          ]
         },
         "layout": {
          "annotationdefaults": {
           "arrowcolor": "#2a3f5f",
           "arrowhead": 0,
           "arrowwidth": 1
          },
          "autotypenumbers": "strict",
          "coloraxis": {
           "colorbar": {
            "outlinewidth": 0,
            "ticks": ""
           }
          },
          "colorscale": {
           "diverging": [
            [
             0,
             "#8e0152"
            ],
            [
             0.1,
             "#c51b7d"
            ],
            [
             0.2,
             "#de77ae"
            ],
            [
             0.3,
             "#f1b6da"
            ],
            [
             0.4,
             "#fde0ef"
            ],
            [
             0.5,
             "#f7f7f7"
            ],
            [
             0.6,
             "#e6f5d0"
            ],
            [
             0.7,
             "#b8e186"
            ],
            [
             0.8,
             "#7fbc41"
            ],
            [
             0.9,
             "#4d9221"
            ],
            [
             1,
             "#276419"
            ]
           ],
           "sequential": [
            [
             0,
             "#0d0887"
            ],
            [
             0.1111111111111111,
             "#46039f"
            ],
            [
             0.2222222222222222,
             "#7201a8"
            ],
            [
             0.3333333333333333,
             "#9c179e"
            ],
            [
             0.4444444444444444,
             "#bd3786"
            ],
            [
             0.5555555555555556,
             "#d8576b"
            ],
            [
             0.6666666666666666,
             "#ed7953"
            ],
            [
             0.7777777777777778,
             "#fb9f3a"
            ],
            [
             0.8888888888888888,
             "#fdca26"
            ],
            [
             1,
             "#f0f921"
            ]
           ],
           "sequentialminus": [
            [
             0,
             "#0d0887"
            ],
            [
             0.1111111111111111,
             "#46039f"
            ],
            [
             0.2222222222222222,
             "#7201a8"
            ],
            [
             0.3333333333333333,
             "#9c179e"
            ],
            [
             0.4444444444444444,
             "#bd3786"
            ],
            [
             0.5555555555555556,
             "#d8576b"
            ],
            [
             0.6666666666666666,
             "#ed7953"
            ],
            [
             0.7777777777777778,
             "#fb9f3a"
            ],
            [
             0.8888888888888888,
             "#fdca26"
            ],
            [
             1,
             "#f0f921"
            ]
           ]
          },
          "colorway": [
           "#636efa",
           "#EF553B",
           "#00cc96",
           "#ab63fa",
           "#FFA15A",
           "#19d3f3",
           "#FF6692",
           "#B6E880",
           "#FF97FF",
           "#FECB52"
          ],
          "font": {
           "color": "#2a3f5f"
          },
          "geo": {
           "bgcolor": "white",
           "lakecolor": "white",
           "landcolor": "#E5ECF6",
           "showlakes": true,
           "showland": true,
           "subunitcolor": "white"
          },
          "hoverlabel": {
           "align": "left"
          },
          "hovermode": "closest",
          "mapbox": {
           "style": "light"
          },
          "paper_bgcolor": "white",
          "plot_bgcolor": "#E5ECF6",
          "polar": {
           "angularaxis": {
            "gridcolor": "white",
            "linecolor": "white",
            "ticks": ""
           },
           "bgcolor": "#E5ECF6",
           "radialaxis": {
            "gridcolor": "white",
            "linecolor": "white",
            "ticks": ""
           }
          },
          "scene": {
           "xaxis": {
            "backgroundcolor": "#E5ECF6",
            "gridcolor": "white",
            "gridwidth": 2,
            "linecolor": "white",
            "showbackground": true,
            "ticks": "",
            "zerolinecolor": "white"
           },
           "yaxis": {
            "backgroundcolor": "#E5ECF6",
            "gridcolor": "white",
            "gridwidth": 2,
            "linecolor": "white",
            "showbackground": true,
            "ticks": "",
            "zerolinecolor": "white"
           },
           "zaxis": {
            "backgroundcolor": "#E5ECF6",
            "gridcolor": "white",
            "gridwidth": 2,
            "linecolor": "white",
            "showbackground": true,
            "ticks": "",
            "zerolinecolor": "white"
           }
          },
          "shapedefaults": {
           "line": {
            "color": "#2a3f5f"
           }
          },
          "ternary": {
           "aaxis": {
            "gridcolor": "white",
            "linecolor": "white",
            "ticks": ""
           },
           "baxis": {
            "gridcolor": "white",
            "linecolor": "white",
            "ticks": ""
           },
           "bgcolor": "#E5ECF6",
           "caxis": {
            "gridcolor": "white",
            "linecolor": "white",
            "ticks": ""
           }
          },
          "title": {
           "x": 0.05
          },
          "xaxis": {
           "automargin": true,
           "gridcolor": "white",
           "linecolor": "white",
           "ticks": "",
           "title": {
            "standoff": 15
           },
           "zerolinecolor": "white",
           "zerolinewidth": 2
          },
          "yaxis": {
           "automargin": true,
           "gridcolor": "white",
           "linecolor": "white",
           "ticks": "",
           "title": {
            "standoff": 15
           },
           "zerolinecolor": "white",
           "zerolinewidth": 2
          }
         }
        },
        "xaxis": {
         "anchor": "y",
         "categoryarray": [
          "Platformer",
          "Puzzle",
          "Action",
          "Shoot 'em up",
          "Adventure",
          "Visual Novel",
          "Action-Adventure",
          "Adventure, Point & Click",
          "Action-RPG, Role Playing",
          "Role Playing, Turn Based"
         ],
         "categoryorder": "array",
         "domain": [
          0,
          1
         ],
         "title": {
          "text": "index"
         }
        },
        "yaxis": {
         "anchor": "x",
         "domain": [
          0,
          1
         ],
         "title": {
          "text": "Genre"
         }
        }
       }
      },
      "text/html": [
       "<div>                            <div id=\"c1bd7c9c-5de5-429a-bcfa-1a7d7243edf4\" class=\"plotly-graph-div\" style=\"height:525px; width:100%;\"></div>            <script type=\"text/javascript\">                require([\"plotly\"], function(Plotly) {                    window.PLOTLYENV=window.PLOTLYENV || {};                                    if (document.getElementById(\"c1bd7c9c-5de5-429a-bcfa-1a7d7243edf4\")) {                    Plotly.newPlot(                        \"c1bd7c9c-5de5-429a-bcfa-1a7d7243edf4\",                        [{\"alignmentgroup\":\"True\",\"hovertemplate\":\"index=%{x}<br>Genre=%{y}<extra></extra>\",\"legendgroup\":\"Platformer\",\"marker\":{\"color\":\"#636efa\",\"pattern\":{\"shape\":\"\"}},\"name\":\"Platformer\",\"offsetgroup\":\"Platformer\",\"orientation\":\"v\",\"showlegend\":true,\"textposition\":\"auto\",\"x\":[\"Platformer\"],\"xaxis\":\"x\",\"y\":[594],\"yaxis\":\"y\",\"type\":\"bar\"},{\"alignmentgroup\":\"True\",\"hovertemplate\":\"index=%{x}<br>Genre=%{y}<extra></extra>\",\"legendgroup\":\"Puzzle\",\"marker\":{\"color\":\"#EF553B\",\"pattern\":{\"shape\":\"\"}},\"name\":\"Puzzle\",\"offsetgroup\":\"Puzzle\",\"orientation\":\"v\",\"showlegend\":true,\"textposition\":\"auto\",\"x\":[\"Puzzle\"],\"xaxis\":\"x\",\"y\":[482],\"yaxis\":\"y\",\"type\":\"bar\"},{\"alignmentgroup\":\"True\",\"hovertemplate\":\"index=%{x}<br>Genre=%{y}<extra></extra>\",\"legendgroup\":\"Action\",\"marker\":{\"color\":\"#00cc96\",\"pattern\":{\"shape\":\"\"}},\"name\":\"Action\",\"offsetgroup\":\"Action\",\"orientation\":\"v\",\"showlegend\":true,\"textposition\":\"auto\",\"x\":[\"Action\"],\"xaxis\":\"x\",\"y\":[440],\"yaxis\":\"y\",\"type\":\"bar\"},{\"alignmentgroup\":\"True\",\"hovertemplate\":\"index=%{x}<br>Genre=%{y}<extra></extra>\",\"legendgroup\":\"Shoot 'em up\",\"marker\":{\"color\":\"#ab63fa\",\"pattern\":{\"shape\":\"\"}},\"name\":\"Shoot 'em up\",\"offsetgroup\":\"Shoot 'em up\",\"orientation\":\"v\",\"showlegend\":true,\"textposition\":\"auto\",\"x\":[\"Shoot 'em up\"],\"xaxis\":\"x\",\"y\":[429],\"yaxis\":\"y\",\"type\":\"bar\"},{\"alignmentgroup\":\"True\",\"hovertemplate\":\"index=%{x}<br>Genre=%{y}<extra></extra>\",\"legendgroup\":\"Adventure\",\"marker\":{\"color\":\"#FFA15A\",\"pattern\":{\"shape\":\"\"}},\"name\":\"Adventure\",\"offsetgroup\":\"Adventure\",\"orientation\":\"v\",\"showlegend\":true,\"textposition\":\"auto\",\"x\":[\"Adventure\"],\"xaxis\":\"x\",\"y\":[373],\"yaxis\":\"y\",\"type\":\"bar\"},{\"alignmentgroup\":\"True\",\"hovertemplate\":\"index=%{x}<br>Genre=%{y}<extra></extra>\",\"legendgroup\":\"Visual Novel\",\"marker\":{\"color\":\"#19d3f3\",\"pattern\":{\"shape\":\"\"}},\"name\":\"Visual Novel\",\"offsetgroup\":\"Visual Novel\",\"orientation\":\"v\",\"showlegend\":true,\"textposition\":\"auto\",\"x\":[\"Visual Novel\"],\"xaxis\":\"x\",\"y\":[316],\"yaxis\":\"y\",\"type\":\"bar\"},{\"alignmentgroup\":\"True\",\"hovertemplate\":\"index=%{x}<br>Genre=%{y}<extra></extra>\",\"legendgroup\":\"Action-Adventure\",\"marker\":{\"color\":\"#FF6692\",\"pattern\":{\"shape\":\"\"}},\"name\":\"Action-Adventure\",\"offsetgroup\":\"Action-Adventure\",\"orientation\":\"v\",\"showlegend\":true,\"textposition\":\"auto\",\"x\":[\"Action-Adventure\"],\"xaxis\":\"x\",\"y\":[302],\"yaxis\":\"y\",\"type\":\"bar\"},{\"alignmentgroup\":\"True\",\"hovertemplate\":\"index=%{x}<br>Genre=%{y}<extra></extra>\",\"legendgroup\":\"Adventure, Point & Click\",\"marker\":{\"color\":\"#B6E880\",\"pattern\":{\"shape\":\"\"}},\"name\":\"Adventure, Point & Click\",\"offsetgroup\":\"Adventure, Point & Click\",\"orientation\":\"v\",\"showlegend\":true,\"textposition\":\"auto\",\"x\":[\"Adventure, Point & Click\"],\"xaxis\":\"x\",\"y\":[218],\"yaxis\":\"y\",\"type\":\"bar\"},{\"alignmentgroup\":\"True\",\"hovertemplate\":\"index=%{x}<br>Genre=%{y}<extra></extra>\",\"legendgroup\":\"Action-RPG, Role Playing\",\"marker\":{\"color\":\"#FF97FF\",\"pattern\":{\"shape\":\"\"}},\"name\":\"Action-RPG, Role Playing\",\"offsetgroup\":\"Action-RPG, Role Playing\",\"orientation\":\"v\",\"showlegend\":true,\"textposition\":\"auto\",\"x\":[\"Action-RPG, Role Playing\"],\"xaxis\":\"x\",\"y\":[199],\"yaxis\":\"y\",\"type\":\"bar\"},{\"alignmentgroup\":\"True\",\"hovertemplate\":\"index=%{x}<br>Genre=%{y}<extra></extra>\",\"legendgroup\":\"Role Playing, Turn Based\",\"marker\":{\"color\":\"#FECB52\",\"pattern\":{\"shape\":\"\"}},\"name\":\"Role Playing, Turn Based\",\"offsetgroup\":\"Role Playing, Turn Based\",\"orientation\":\"v\",\"showlegend\":true,\"textposition\":\"auto\",\"x\":[\"Role Playing, Turn Based\"],\"xaxis\":\"x\",\"y\":[197],\"yaxis\":\"y\",\"type\":\"bar\"}],                        {\"template\":{\"data\":{\"bar\":[{\"error_x\":{\"color\":\"#2a3f5f\"},\"error_y\":{\"color\":\"#2a3f5f\"},\"marker\":{\"line\":{\"color\":\"#E5ECF6\",\"width\":0.5},\"pattern\":{\"fillmode\":\"overlay\",\"size\":10,\"solidity\":0.2}},\"type\":\"bar\"}],\"barpolar\":[{\"marker\":{\"line\":{\"color\":\"#E5ECF6\",\"width\":0.5},\"pattern\":{\"fillmode\":\"overlay\",\"size\":10,\"solidity\":0.2}},\"type\":\"barpolar\"}],\"carpet\":[{\"aaxis\":{\"endlinecolor\":\"#2a3f5f\",\"gridcolor\":\"white\",\"linecolor\":\"white\",\"minorgridcolor\":\"white\",\"startlinecolor\":\"#2a3f5f\"},\"baxis\":{\"endlinecolor\":\"#2a3f5f\",\"gridcolor\":\"white\",\"linecolor\":\"white\",\"minorgridcolor\":\"white\",\"startlinecolor\":\"#2a3f5f\"},\"type\":\"carpet\"}],\"choropleth\":[{\"colorbar\":{\"outlinewidth\":0,\"ticks\":\"\"},\"type\":\"choropleth\"}],\"contour\":[{\"colorbar\":{\"outlinewidth\":0,\"ticks\":\"\"},\"colorscale\":[[0.0,\"#0d0887\"],[0.1111111111111111,\"#46039f\"],[0.2222222222222222,\"#7201a8\"],[0.3333333333333333,\"#9c179e\"],[0.4444444444444444,\"#bd3786\"],[0.5555555555555556,\"#d8576b\"],[0.6666666666666666,\"#ed7953\"],[0.7777777777777778,\"#fb9f3a\"],[0.8888888888888888,\"#fdca26\"],[1.0,\"#f0f921\"]],\"type\":\"contour\"}],\"contourcarpet\":[{\"colorbar\":{\"outlinewidth\":0,\"ticks\":\"\"},\"type\":\"contourcarpet\"}],\"heatmap\":[{\"colorbar\":{\"outlinewidth\":0,\"ticks\":\"\"},\"colorscale\":[[0.0,\"#0d0887\"],[0.1111111111111111,\"#46039f\"],[0.2222222222222222,\"#7201a8\"],[0.3333333333333333,\"#9c179e\"],[0.4444444444444444,\"#bd3786\"],[0.5555555555555556,\"#d8576b\"],[0.6666666666666666,\"#ed7953\"],[0.7777777777777778,\"#fb9f3a\"],[0.8888888888888888,\"#fdca26\"],[1.0,\"#f0f921\"]],\"type\":\"heatmap\"}],\"heatmapgl\":[{\"colorbar\":{\"outlinewidth\":0,\"ticks\":\"\"},\"colorscale\":[[0.0,\"#0d0887\"],[0.1111111111111111,\"#46039f\"],[0.2222222222222222,\"#7201a8\"],[0.3333333333333333,\"#9c179e\"],[0.4444444444444444,\"#bd3786\"],[0.5555555555555556,\"#d8576b\"],[0.6666666666666666,\"#ed7953\"],[0.7777777777777778,\"#fb9f3a\"],[0.8888888888888888,\"#fdca26\"],[1.0,\"#f0f921\"]],\"type\":\"heatmapgl\"}],\"histogram\":[{\"marker\":{\"pattern\":{\"fillmode\":\"overlay\",\"size\":10,\"solidity\":0.2}},\"type\":\"histogram\"}],\"histogram2d\":[{\"colorbar\":{\"outlinewidth\":0,\"ticks\":\"\"},\"colorscale\":[[0.0,\"#0d0887\"],[0.1111111111111111,\"#46039f\"],[0.2222222222222222,\"#7201a8\"],[0.3333333333333333,\"#9c179e\"],[0.4444444444444444,\"#bd3786\"],[0.5555555555555556,\"#d8576b\"],[0.6666666666666666,\"#ed7953\"],[0.7777777777777778,\"#fb9f3a\"],[0.8888888888888888,\"#fdca26\"],[1.0,\"#f0f921\"]],\"type\":\"histogram2d\"}],\"histogram2dcontour\":[{\"colorbar\":{\"outlinewidth\":0,\"ticks\":\"\"},\"colorscale\":[[0.0,\"#0d0887\"],[0.1111111111111111,\"#46039f\"],[0.2222222222222222,\"#7201a8\"],[0.3333333333333333,\"#9c179e\"],[0.4444444444444444,\"#bd3786\"],[0.5555555555555556,\"#d8576b\"],[0.6666666666666666,\"#ed7953\"],[0.7777777777777778,\"#fb9f3a\"],[0.8888888888888888,\"#fdca26\"],[1.0,\"#f0f921\"]],\"type\":\"histogram2dcontour\"}],\"mesh3d\":[{\"colorbar\":{\"outlinewidth\":0,\"ticks\":\"\"},\"type\":\"mesh3d\"}],\"parcoords\":[{\"line\":{\"colorbar\":{\"outlinewidth\":0,\"ticks\":\"\"}},\"type\":\"parcoords\"}],\"pie\":[{\"automargin\":true,\"type\":\"pie\"}],\"scatter\":[{\"marker\":{\"colorbar\":{\"outlinewidth\":0,\"ticks\":\"\"}},\"type\":\"scatter\"}],\"scatter3d\":[{\"line\":{\"colorbar\":{\"outlinewidth\":0,\"ticks\":\"\"}},\"marker\":{\"colorbar\":{\"outlinewidth\":0,\"ticks\":\"\"}},\"type\":\"scatter3d\"}],\"scattercarpet\":[{\"marker\":{\"colorbar\":{\"outlinewidth\":0,\"ticks\":\"\"}},\"type\":\"scattercarpet\"}],\"scattergeo\":[{\"marker\":{\"colorbar\":{\"outlinewidth\":0,\"ticks\":\"\"}},\"type\":\"scattergeo\"}],\"scattergl\":[{\"marker\":{\"colorbar\":{\"outlinewidth\":0,\"ticks\":\"\"}},\"type\":\"scattergl\"}],\"scattermapbox\":[{\"marker\":{\"colorbar\":{\"outlinewidth\":0,\"ticks\":\"\"}},\"type\":\"scattermapbox\"}],\"scatterpolar\":[{\"marker\":{\"colorbar\":{\"outlinewidth\":0,\"ticks\":\"\"}},\"type\":\"scatterpolar\"}],\"scatterpolargl\":[{\"marker\":{\"colorbar\":{\"outlinewidth\":0,\"ticks\":\"\"}},\"type\":\"scatterpolargl\"}],\"scatterternary\":[{\"marker\":{\"colorbar\":{\"outlinewidth\":0,\"ticks\":\"\"}},\"type\":\"scatterternary\"}],\"surface\":[{\"colorbar\":{\"outlinewidth\":0,\"ticks\":\"\"},\"colorscale\":[[0.0,\"#0d0887\"],[0.1111111111111111,\"#46039f\"],[0.2222222222222222,\"#7201a8\"],[0.3333333333333333,\"#9c179e\"],[0.4444444444444444,\"#bd3786\"],[0.5555555555555556,\"#d8576b\"],[0.6666666666666666,\"#ed7953\"],[0.7777777777777778,\"#fb9f3a\"],[0.8888888888888888,\"#fdca26\"],[1.0,\"#f0f921\"]],\"type\":\"surface\"}],\"table\":[{\"cells\":{\"fill\":{\"color\":\"#EBF0F8\"},\"line\":{\"color\":\"white\"}},\"header\":{\"fill\":{\"color\":\"#C8D4E3\"},\"line\":{\"color\":\"white\"}},\"type\":\"table\"}]},\"layout\":{\"annotationdefaults\":{\"arrowcolor\":\"#2a3f5f\",\"arrowhead\":0,\"arrowwidth\":1},\"autotypenumbers\":\"strict\",\"coloraxis\":{\"colorbar\":{\"outlinewidth\":0,\"ticks\":\"\"}},\"colorscale\":{\"diverging\":[[0,\"#8e0152\"],[0.1,\"#c51b7d\"],[0.2,\"#de77ae\"],[0.3,\"#f1b6da\"],[0.4,\"#fde0ef\"],[0.5,\"#f7f7f7\"],[0.6,\"#e6f5d0\"],[0.7,\"#b8e186\"],[0.8,\"#7fbc41\"],[0.9,\"#4d9221\"],[1,\"#276419\"]],\"sequential\":[[0.0,\"#0d0887\"],[0.1111111111111111,\"#46039f\"],[0.2222222222222222,\"#7201a8\"],[0.3333333333333333,\"#9c179e\"],[0.4444444444444444,\"#bd3786\"],[0.5555555555555556,\"#d8576b\"],[0.6666666666666666,\"#ed7953\"],[0.7777777777777778,\"#fb9f3a\"],[0.8888888888888888,\"#fdca26\"],[1.0,\"#f0f921\"]],\"sequentialminus\":[[0.0,\"#0d0887\"],[0.1111111111111111,\"#46039f\"],[0.2222222222222222,\"#7201a8\"],[0.3333333333333333,\"#9c179e\"],[0.4444444444444444,\"#bd3786\"],[0.5555555555555556,\"#d8576b\"],[0.6666666666666666,\"#ed7953\"],[0.7777777777777778,\"#fb9f3a\"],[0.8888888888888888,\"#fdca26\"],[1.0,\"#f0f921\"]]},\"colorway\":[\"#636efa\",\"#EF553B\",\"#00cc96\",\"#ab63fa\",\"#FFA15A\",\"#19d3f3\",\"#FF6692\",\"#B6E880\",\"#FF97FF\",\"#FECB52\"],\"font\":{\"color\":\"#2a3f5f\"},\"geo\":{\"bgcolor\":\"white\",\"lakecolor\":\"white\",\"landcolor\":\"#E5ECF6\",\"showlakes\":true,\"showland\":true,\"subunitcolor\":\"white\"},\"hoverlabel\":{\"align\":\"left\"},\"hovermode\":\"closest\",\"mapbox\":{\"style\":\"light\"},\"paper_bgcolor\":\"white\",\"plot_bgcolor\":\"#E5ECF6\",\"polar\":{\"angularaxis\":{\"gridcolor\":\"white\",\"linecolor\":\"white\",\"ticks\":\"\"},\"bgcolor\":\"#E5ECF6\",\"radialaxis\":{\"gridcolor\":\"white\",\"linecolor\":\"white\",\"ticks\":\"\"}},\"scene\":{\"xaxis\":{\"backgroundcolor\":\"#E5ECF6\",\"gridcolor\":\"white\",\"gridwidth\":2,\"linecolor\":\"white\",\"showbackground\":true,\"ticks\":\"\",\"zerolinecolor\":\"white\"},\"yaxis\":{\"backgroundcolor\":\"#E5ECF6\",\"gridcolor\":\"white\",\"gridwidth\":2,\"linecolor\":\"white\",\"showbackground\":true,\"ticks\":\"\",\"zerolinecolor\":\"white\"},\"zaxis\":{\"backgroundcolor\":\"#E5ECF6\",\"gridcolor\":\"white\",\"gridwidth\":2,\"linecolor\":\"white\",\"showbackground\":true,\"ticks\":\"\",\"zerolinecolor\":\"white\"}},\"shapedefaults\":{\"line\":{\"color\":\"#2a3f5f\"}},\"ternary\":{\"aaxis\":{\"gridcolor\":\"white\",\"linecolor\":\"white\",\"ticks\":\"\"},\"baxis\":{\"gridcolor\":\"white\",\"linecolor\":\"white\",\"ticks\":\"\"},\"bgcolor\":\"#E5ECF6\",\"caxis\":{\"gridcolor\":\"white\",\"linecolor\":\"white\",\"ticks\":\"\"}},\"title\":{\"x\":0.05},\"xaxis\":{\"automargin\":true,\"gridcolor\":\"white\",\"linecolor\":\"white\",\"ticks\":\"\",\"title\":{\"standoff\":15},\"zerolinecolor\":\"white\",\"zerolinewidth\":2},\"yaxis\":{\"automargin\":true,\"gridcolor\":\"white\",\"linecolor\":\"white\",\"ticks\":\"\",\"title\":{\"standoff\":15},\"zerolinecolor\":\"white\",\"zerolinewidth\":2}}},\"xaxis\":{\"anchor\":\"y\",\"domain\":[0.0,1.0],\"title\":{\"text\":\"index\"},\"categoryorder\":\"array\",\"categoryarray\":[\"Platformer\",\"Puzzle\",\"Action\",\"Shoot 'em up\",\"Adventure\",\"Visual Novel\",\"Action-Adventure\",\"Adventure, Point & Click\",\"Action-RPG, Role Playing\",\"Role Playing, Turn Based\"]},\"yaxis\":{\"anchor\":\"x\",\"domain\":[0.0,1.0],\"title\":{\"text\":\"Genre\"}},\"legend\":{\"title\":{\"text\":\"index\"},\"tracegroupgap\":0},\"margin\":{\"t\":60},\"barmode\":\"relative\"},                        {\"responsive\": true}                    ).then(function(){\n",
       "                            \n",
       "var gd = document.getElementById('c1bd7c9c-5de5-429a-bcfa-1a7d7243edf4');\n",
       "var x = new MutationObserver(function (mutations, observer) {{\n",
       "        var display = window.getComputedStyle(gd).display;\n",
       "        if (!display || display === 'none') {{\n",
       "            console.log([gd, 'removed!']);\n",
       "            Plotly.purge(gd);\n",
       "            observer.disconnect();\n",
       "        }}\n",
       "}});\n",
       "\n",
       "// Listen for the removal of the full notebook cells\n",
       "var notebookContainer = gd.closest('#notebook-container');\n",
       "if (notebookContainer) {{\n",
       "    x.observe(notebookContainer, {childList: true});\n",
       "}}\n",
       "\n",
       "// Listen for the clearing of the current output cell\n",
       "var outputEl = gd.closest('.output');\n",
       "if (outputEl) {{\n",
       "    x.observe(outputEl, {childList: true});\n",
       "}}\n",
       "\n",
       "                        })                };                });            </script>        </div>"
      ]
     },
     "metadata": {},
     "output_type": "display_data"
    }
   ],
   "source": [
    "fig=px.bar(Genre,'index','Genre',color='index')\n",
    "fig.show()"
   ]
  },
  {
   "cell_type": "markdown",
   "id": "db8f82d0",
   "metadata": {},
   "source": [
    "# which year has more action ,platformer,puzzle and shoot 'em up game"
   ]
  },
  {
   "cell_type": "code",
   "execution_count": 69,
   "id": "533a20e2",
   "metadata": {},
   "outputs": [],
   "source": [
    "platformer=df[df['Genre']=='Platformer']"
   ]
  },
  {
   "cell_type": "code",
   "execution_count": 70,
   "id": "147ac1f1",
   "metadata": {},
   "outputs": [
    {
     "data": {
      "text/html": [
       "<div>\n",
       "<style scoped>\n",
       "    .dataframe tbody tr th:only-of-type {\n",
       "        vertical-align: middle;\n",
       "    }\n",
       "\n",
       "    .dataframe tbody tr th {\n",
       "        vertical-align: top;\n",
       "    }\n",
       "\n",
       "    .dataframe thead th {\n",
       "        text-align: right;\n",
       "    }\n",
       "</style>\n",
       "<table border=\"1\" class=\"dataframe\">\n",
       "  <thead>\n",
       "    <tr style=\"text-align: right;\">\n",
       "      <th></th>\n",
       "      <th>ReleaseYear</th>\n",
       "      <th>Genre</th>\n",
       "    </tr>\n",
       "  </thead>\n",
       "  <tbody>\n",
       "    <tr>\n",
       "      <th>0</th>\n",
       "      <td>2013.0</td>\n",
       "      <td>5</td>\n",
       "    </tr>\n",
       "    <tr>\n",
       "      <th>1</th>\n",
       "      <td>2014.0</td>\n",
       "      <td>19</td>\n",
       "    </tr>\n",
       "    <tr>\n",
       "      <th>2</th>\n",
       "      <td>2015.0</td>\n",
       "      <td>42</td>\n",
       "    </tr>\n",
       "    <tr>\n",
       "      <th>3</th>\n",
       "      <td>2016.0</td>\n",
       "      <td>58</td>\n",
       "    </tr>\n",
       "    <tr>\n",
       "      <th>4</th>\n",
       "      <td>2017.0</td>\n",
       "      <td>79</td>\n",
       "    </tr>\n",
       "    <tr>\n",
       "      <th>5</th>\n",
       "      <td>2018.0</td>\n",
       "      <td>89</td>\n",
       "    </tr>\n",
       "    <tr>\n",
       "      <th>6</th>\n",
       "      <td>2019.0</td>\n",
       "      <td>105</td>\n",
       "    </tr>\n",
       "    <tr>\n",
       "      <th>7</th>\n",
       "      <td>2020.0</td>\n",
       "      <td>140</td>\n",
       "    </tr>\n",
       "    <tr>\n",
       "      <th>8</th>\n",
       "      <td>2021.0</td>\n",
       "      <td>57</td>\n",
       "    </tr>\n",
       "  </tbody>\n",
       "</table>\n",
       "</div>"
      ],
      "text/plain": [
       "   ReleaseYear  Genre\n",
       "0       2013.0      5\n",
       "1       2014.0     19\n",
       "2       2015.0     42\n",
       "3       2016.0     58\n",
       "4       2017.0     79\n",
       "5       2018.0     89\n",
       "6       2019.0    105\n",
       "7       2020.0    140\n",
       "8       2021.0     57"
      ]
     },
     "execution_count": 70,
     "metadata": {},
     "output_type": "execute_result"
    }
   ],
   "source": [
    "platformer.groupby(['ReleaseYear'])['Genre'].agg('count').reset_index()"
   ]
  },
  {
   "cell_type": "code",
   "execution_count": 71,
   "id": "ee505476",
   "metadata": {},
   "outputs": [],
   "source": [
    "action=df[df['Genre']=='Action']"
   ]
  },
  {
   "cell_type": "code",
   "execution_count": 72,
   "id": "d1aff32e",
   "metadata": {},
   "outputs": [
    {
     "data": {
      "text/html": [
       "<div>\n",
       "<style scoped>\n",
       "    .dataframe tbody tr th:only-of-type {\n",
       "        vertical-align: middle;\n",
       "    }\n",
       "\n",
       "    .dataframe tbody tr th {\n",
       "        vertical-align: top;\n",
       "    }\n",
       "\n",
       "    .dataframe thead th {\n",
       "        text-align: right;\n",
       "    }\n",
       "</style>\n",
       "<table border=\"1\" class=\"dataframe\">\n",
       "  <thead>\n",
       "    <tr style=\"text-align: right;\">\n",
       "      <th></th>\n",
       "      <th>ReleaseYear</th>\n",
       "      <th>Genre</th>\n",
       "    </tr>\n",
       "  </thead>\n",
       "  <tbody>\n",
       "    <tr>\n",
       "      <th>0</th>\n",
       "      <td>2013.0</td>\n",
       "      <td>1</td>\n",
       "    </tr>\n",
       "    <tr>\n",
       "      <th>1</th>\n",
       "      <td>2014.0</td>\n",
       "      <td>9</td>\n",
       "    </tr>\n",
       "    <tr>\n",
       "      <th>2</th>\n",
       "      <td>2015.0</td>\n",
       "      <td>29</td>\n",
       "    </tr>\n",
       "    <tr>\n",
       "      <th>3</th>\n",
       "      <td>2016.0</td>\n",
       "      <td>55</td>\n",
       "    </tr>\n",
       "    <tr>\n",
       "      <th>4</th>\n",
       "      <td>2017.0</td>\n",
       "      <td>40</td>\n",
       "    </tr>\n",
       "    <tr>\n",
       "      <th>5</th>\n",
       "      <td>2018.0</td>\n",
       "      <td>63</td>\n",
       "    </tr>\n",
       "    <tr>\n",
       "      <th>6</th>\n",
       "      <td>2019.0</td>\n",
       "      <td>73</td>\n",
       "    </tr>\n",
       "    <tr>\n",
       "      <th>7</th>\n",
       "      <td>2020.0</td>\n",
       "      <td>113</td>\n",
       "    </tr>\n",
       "    <tr>\n",
       "      <th>8</th>\n",
       "      <td>2021.0</td>\n",
       "      <td>57</td>\n",
       "    </tr>\n",
       "  </tbody>\n",
       "</table>\n",
       "</div>"
      ],
      "text/plain": [
       "   ReleaseYear  Genre\n",
       "0       2013.0      1\n",
       "1       2014.0      9\n",
       "2       2015.0     29\n",
       "3       2016.0     55\n",
       "4       2017.0     40\n",
       "5       2018.0     63\n",
       "6       2019.0     73\n",
       "7       2020.0    113\n",
       "8       2021.0     57"
      ]
     },
     "execution_count": 72,
     "metadata": {},
     "output_type": "execute_result"
    }
   ],
   "source": [
    "action.groupby(['ReleaseYear'])['Genre'].agg('count').reset_index()"
   ]
  },
  {
   "cell_type": "code",
   "execution_count": 73,
   "id": "a733eb95",
   "metadata": {},
   "outputs": [],
   "source": [
    "puzzle=df[df['Genre']=='Puzzle']"
   ]
  },
  {
   "cell_type": "code",
   "execution_count": 74,
   "id": "dd2bd6fe",
   "metadata": {},
   "outputs": [
    {
     "data": {
      "text/html": [
       "<div>\n",
       "<style scoped>\n",
       "    .dataframe tbody tr th:only-of-type {\n",
       "        vertical-align: middle;\n",
       "    }\n",
       "\n",
       "    .dataframe tbody tr th {\n",
       "        vertical-align: top;\n",
       "    }\n",
       "\n",
       "    .dataframe thead th {\n",
       "        text-align: right;\n",
       "    }\n",
       "</style>\n",
       "<table border=\"1\" class=\"dataframe\">\n",
       "  <thead>\n",
       "    <tr style=\"text-align: right;\">\n",
       "      <th></th>\n",
       "      <th>ReleaseYear</th>\n",
       "      <th>Genre</th>\n",
       "    </tr>\n",
       "  </thead>\n",
       "  <tbody>\n",
       "    <tr>\n",
       "      <th>0</th>\n",
       "      <td>2013.0</td>\n",
       "      <td>3</td>\n",
       "    </tr>\n",
       "    <tr>\n",
       "      <th>1</th>\n",
       "      <td>2014.0</td>\n",
       "      <td>9</td>\n",
       "    </tr>\n",
       "    <tr>\n",
       "      <th>2</th>\n",
       "      <td>2015.0</td>\n",
       "      <td>23</td>\n",
       "    </tr>\n",
       "    <tr>\n",
       "      <th>3</th>\n",
       "      <td>2016.0</td>\n",
       "      <td>43</td>\n",
       "    </tr>\n",
       "    <tr>\n",
       "      <th>4</th>\n",
       "      <td>2017.0</td>\n",
       "      <td>46</td>\n",
       "    </tr>\n",
       "    <tr>\n",
       "      <th>5</th>\n",
       "      <td>2018.0</td>\n",
       "      <td>77</td>\n",
       "    </tr>\n",
       "    <tr>\n",
       "      <th>6</th>\n",
       "      <td>2019.0</td>\n",
       "      <td>128</td>\n",
       "    </tr>\n",
       "    <tr>\n",
       "      <th>7</th>\n",
       "      <td>2020.0</td>\n",
       "      <td>115</td>\n",
       "    </tr>\n",
       "    <tr>\n",
       "      <th>8</th>\n",
       "      <td>2021.0</td>\n",
       "      <td>38</td>\n",
       "    </tr>\n",
       "  </tbody>\n",
       "</table>\n",
       "</div>"
      ],
      "text/plain": [
       "   ReleaseYear  Genre\n",
       "0       2013.0      3\n",
       "1       2014.0      9\n",
       "2       2015.0     23\n",
       "3       2016.0     43\n",
       "4       2017.0     46\n",
       "5       2018.0     77\n",
       "6       2019.0    128\n",
       "7       2020.0    115\n",
       "8       2021.0     38"
      ]
     },
     "execution_count": 74,
     "metadata": {},
     "output_type": "execute_result"
    }
   ],
   "source": [
    "puzzle.groupby(['ReleaseYear'])['Genre'].agg('count').reset_index()"
   ]
  },
  {
   "cell_type": "code",
   "execution_count": 75,
   "id": "0bef6be6",
   "metadata": {},
   "outputs": [],
   "source": [
    "shoot=df[df['Genre']==\"Shoot 'em up\"]"
   ]
  },
  {
   "cell_type": "code",
   "execution_count": 76,
   "id": "46fc3a34",
   "metadata": {},
   "outputs": [
    {
     "data": {
      "text/html": [
       "<div>\n",
       "<style scoped>\n",
       "    .dataframe tbody tr th:only-of-type {\n",
       "        vertical-align: middle;\n",
       "    }\n",
       "\n",
       "    .dataframe tbody tr th {\n",
       "        vertical-align: top;\n",
       "    }\n",
       "\n",
       "    .dataframe thead th {\n",
       "        text-align: right;\n",
       "    }\n",
       "</style>\n",
       "<table border=\"1\" class=\"dataframe\">\n",
       "  <thead>\n",
       "    <tr style=\"text-align: right;\">\n",
       "      <th></th>\n",
       "      <th>ReleaseYear</th>\n",
       "      <th>Genre</th>\n",
       "    </tr>\n",
       "  </thead>\n",
       "  <tbody>\n",
       "    <tr>\n",
       "      <th>0</th>\n",
       "      <td>2013.0</td>\n",
       "      <td>1</td>\n",
       "    </tr>\n",
       "    <tr>\n",
       "      <th>1</th>\n",
       "      <td>2014.0</td>\n",
       "      <td>14</td>\n",
       "    </tr>\n",
       "    <tr>\n",
       "      <th>2</th>\n",
       "      <td>2015.0</td>\n",
       "      <td>31</td>\n",
       "    </tr>\n",
       "    <tr>\n",
       "      <th>3</th>\n",
       "      <td>2016.0</td>\n",
       "      <td>41</td>\n",
       "    </tr>\n",
       "    <tr>\n",
       "      <th>4</th>\n",
       "      <td>2017.0</td>\n",
       "      <td>53</td>\n",
       "    </tr>\n",
       "    <tr>\n",
       "      <th>5</th>\n",
       "      <td>2018.0</td>\n",
       "      <td>70</td>\n",
       "    </tr>\n",
       "    <tr>\n",
       "      <th>6</th>\n",
       "      <td>2019.0</td>\n",
       "      <td>58</td>\n",
       "    </tr>\n",
       "    <tr>\n",
       "      <th>7</th>\n",
       "      <td>2020.0</td>\n",
       "      <td>110</td>\n",
       "    </tr>\n",
       "    <tr>\n",
       "      <th>8</th>\n",
       "      <td>2021.0</td>\n",
       "      <td>51</td>\n",
       "    </tr>\n",
       "  </tbody>\n",
       "</table>\n",
       "</div>"
      ],
      "text/plain": [
       "   ReleaseYear  Genre\n",
       "0       2013.0      1\n",
       "1       2014.0     14\n",
       "2       2015.0     31\n",
       "3       2016.0     41\n",
       "4       2017.0     53\n",
       "5       2018.0     70\n",
       "6       2019.0     58\n",
       "7       2020.0    110\n",
       "8       2021.0     51"
      ]
     },
     "execution_count": 76,
     "metadata": {},
     "output_type": "execute_result"
    }
   ],
   "source": [
    "shoot.groupby(['ReleaseYear'])['Genre'].agg('count').reset_index()"
   ]
  },
  {
   "cell_type": "code",
   "execution_count": 77,
   "id": "a3e4eefd",
   "metadata": {},
   "outputs": [
    {
     "data": {
      "text/html": [
       "<div>\n",
       "<style scoped>\n",
       "    .dataframe tbody tr th:only-of-type {\n",
       "        vertical-align: middle;\n",
       "    }\n",
       "\n",
       "    .dataframe tbody tr th {\n",
       "        vertical-align: top;\n",
       "    }\n",
       "\n",
       "    .dataframe thead th {\n",
       "        text-align: right;\n",
       "    }\n",
       "</style>\n",
       "<table border=\"1\" class=\"dataframe\">\n",
       "  <thead>\n",
       "    <tr style=\"text-align: right;\">\n",
       "      <th></th>\n",
       "      <th>ID</th>\n",
       "      <th>GamePSID</th>\n",
       "      <th>GameName</th>\n",
       "      <th>Publisher</th>\n",
       "      <th>ReleaseYear</th>\n",
       "      <th>ReleaseDate</th>\n",
       "      <th>Developer</th>\n",
       "      <th>Genre</th>\n",
       "      <th>Size</th>\n",
       "      <th>Medium</th>\n",
       "    </tr>\n",
       "  </thead>\n",
       "  <tbody>\n",
       "    <tr>\n",
       "      <th>1</th>\n",
       "      <td>2</td>\n",
       "      <td>3051</td>\n",
       "      <td>Q*Bert Rebooted (EU)</td>\n",
       "      <td>LOOT Interactive</td>\n",
       "      <td>2015.0</td>\n",
       "      <td>2015-07-22</td>\n",
       "      <td>LOOT Interactive</td>\n",
       "      <td>Action</td>\n",
       "      <td>127.00</td>\n",
       "      <td>Digital only</td>\n",
       "    </tr>\n",
       "    <tr>\n",
       "      <th>2</th>\n",
       "      <td>3</td>\n",
       "      <td>6703</td>\n",
       "      <td>Q.U.B.E. 2</td>\n",
       "      <td>Trapped Nerve Games</td>\n",
       "      <td>2018.0</td>\n",
       "      <td>2018-03-13</td>\n",
       "      <td>Toxic Games</td>\n",
       "      <td>Puzzle, Platformer</td>\n",
       "      <td>2682.88</td>\n",
       "      <td>Digital only</td>\n",
       "    </tr>\n",
       "    <tr>\n",
       "      <th>3</th>\n",
       "      <td>4</td>\n",
       "      <td>3403</td>\n",
       "      <td>Q.U.B.E. Director's Cut</td>\n",
       "      <td>GRIP Digital</td>\n",
       "      <td>2015.0</td>\n",
       "      <td>2015-07-21</td>\n",
       "      <td>Toxic Games</td>\n",
       "      <td>Puzzle, Platformer</td>\n",
       "      <td>1945.60</td>\n",
       "      <td>Digital only</td>\n",
       "    </tr>\n",
       "    <tr>\n",
       "      <th>10</th>\n",
       "      <td>11</td>\n",
       "      <td>10196</td>\n",
       "      <td>Quar: Infernal Machines</td>\n",
       "      <td>Hoplite Research</td>\n",
       "      <td>2019.0</td>\n",
       "      <td>2019-05-15</td>\n",
       "      <td>Funbox Media</td>\n",
       "      <td>Strategy, Turn Based</td>\n",
       "      <td>1904.64</td>\n",
       "      <td>Physical and Digital</td>\n",
       "    </tr>\n",
       "    <tr>\n",
       "      <th>11</th>\n",
       "      <td>12</td>\n",
       "      <td>8045</td>\n",
       "      <td>Quar: Infernal Machines (EU)</td>\n",
       "      <td>Hoplite Research</td>\n",
       "      <td>2019.0</td>\n",
       "      <td>2019-03-15</td>\n",
       "      <td>Funbox Media</td>\n",
       "      <td>Strategy, Turn Based</td>\n",
       "      <td>1914.88</td>\n",
       "      <td>Physical and Digital</td>\n",
       "    </tr>\n",
       "    <tr>\n",
       "      <th>...</th>\n",
       "      <td>...</td>\n",
       "      <td>...</td>\n",
       "      <td>...</td>\n",
       "      <td>...</td>\n",
       "      <td>...</td>\n",
       "      <td>...</td>\n",
       "      <td>...</td>\n",
       "      <td>...</td>\n",
       "      <td>...</td>\n",
       "      <td>...</td>\n",
       "    </tr>\n",
       "    <tr>\n",
       "      <th>9680</th>\n",
       "      <td>9681</td>\n",
       "      <td>6051</td>\n",
       "      <td>99Vidas (EU)</td>\n",
       "      <td>QUByte Interactive</td>\n",
       "      <td>2017.0</td>\n",
       "      <td>2017-12-08</td>\n",
       "      <td>QUByte Interactive</td>\n",
       "      <td>Beat 'em up</td>\n",
       "      <td>2938.88</td>\n",
       "      <td>Physical and Digital</td>\n",
       "    </tr>\n",
       "    <tr>\n",
       "      <th>9681</th>\n",
       "      <td>9682</td>\n",
       "      <td>10928</td>\n",
       "      <td>9th Dawn III</td>\n",
       "      <td>Valorware</td>\n",
       "      <td>2020.0</td>\n",
       "      <td>2020-10-06</td>\n",
       "      <td>Valorware</td>\n",
       "      <td>Open World, Action-RPG, Role Playing</td>\n",
       "      <td>653.00</td>\n",
       "      <td>Physical and Digital</td>\n",
       "    </tr>\n",
       "    <tr>\n",
       "      <th>9682</th>\n",
       "      <td>9683</td>\n",
       "      <td>10929</td>\n",
       "      <td>9th Dawn III (EU)</td>\n",
       "      <td>Valorware</td>\n",
       "      <td>2020.0</td>\n",
       "      <td>2020-10-06</td>\n",
       "      <td>Valorware</td>\n",
       "      <td>Open World, Action-RPG, Role Playing</td>\n",
       "      <td>653.00</td>\n",
       "      <td>Digital only</td>\n",
       "    </tr>\n",
       "    <tr>\n",
       "      <th>9683</th>\n",
       "      <td>9684</td>\n",
       "      <td>7114</td>\n",
       "      <td>n Verlore Verstand</td>\n",
       "      <td>Skobbejak Games</td>\n",
       "      <td>2018.0</td>\n",
       "      <td>2018-06-12</td>\n",
       "      <td>Skobbejak Games</td>\n",
       "      <td>Puzzle, Adventure, Platformer</td>\n",
       "      <td>2170.88</td>\n",
       "      <td>Digital only</td>\n",
       "    </tr>\n",
       "    <tr>\n",
       "      <th>9684</th>\n",
       "      <td>9685</td>\n",
       "      <td>7110</td>\n",
       "      <td>n Verlore Verstand (EU)</td>\n",
       "      <td>Skobbejak Games</td>\n",
       "      <td>2018.0</td>\n",
       "      <td>2018-06-12</td>\n",
       "      <td>Skobbejak Games</td>\n",
       "      <td>Puzzle, Adventure, Platformer</td>\n",
       "      <td>2170.88</td>\n",
       "      <td>Digital only</td>\n",
       "    </tr>\n",
       "  </tbody>\n",
       "</table>\n",
       "<p>7599 rows × 10 columns</p>\n",
       "</div>"
      ],
      "text/plain": [
       "        ID  GamePSID                      GameName            Publisher  \\\n",
       "1        2      3051          Q*Bert Rebooted (EU)     LOOT Interactive   \n",
       "2        3      6703                    Q.U.B.E. 2  Trapped Nerve Games   \n",
       "3        4      3403       Q.U.B.E. Director's Cut         GRIP Digital   \n",
       "10      11     10196       Quar: Infernal Machines     Hoplite Research   \n",
       "11      12      8045  Quar: Infernal Machines (EU)     Hoplite Research   \n",
       "...    ...       ...                           ...                  ...   \n",
       "9680  9681      6051                  99Vidas (EU)   QUByte Interactive   \n",
       "9681  9682     10928                  9th Dawn III            Valorware   \n",
       "9682  9683     10929             9th Dawn III (EU)            Valorware   \n",
       "9683  9684      7114            n Verlore Verstand      Skobbejak Games   \n",
       "9684  9685      7110       n Verlore Verstand (EU)      Skobbejak Games   \n",
       "\n",
       "      ReleaseYear ReleaseDate           Developer  \\\n",
       "1          2015.0  2015-07-22    LOOT Interactive   \n",
       "2          2018.0  2018-03-13         Toxic Games   \n",
       "3          2015.0  2015-07-21         Toxic Games   \n",
       "10         2019.0  2019-05-15        Funbox Media   \n",
       "11         2019.0  2019-03-15        Funbox Media   \n",
       "...           ...         ...                 ...   \n",
       "9680       2017.0  2017-12-08  QUByte Interactive   \n",
       "9681       2020.0  2020-10-06           Valorware   \n",
       "9682       2020.0  2020-10-06           Valorware   \n",
       "9683       2018.0  2018-06-12     Skobbejak Games   \n",
       "9684       2018.0  2018-06-12     Skobbejak Games   \n",
       "\n",
       "                                     Genre     Size                Medium  \n",
       "1                                   Action   127.00          Digital only  \n",
       "2                       Puzzle, Platformer  2682.88          Digital only  \n",
       "3                       Puzzle, Platformer  1945.60          Digital only  \n",
       "10                    Strategy, Turn Based  1904.64  Physical and Digital  \n",
       "11                    Strategy, Turn Based  1914.88  Physical and Digital  \n",
       "...                                    ...      ...                   ...  \n",
       "9680                           Beat 'em up  2938.88  Physical and Digital  \n",
       "9681  Open World, Action-RPG, Role Playing   653.00  Physical and Digital  \n",
       "9682  Open World, Action-RPG, Role Playing   653.00          Digital only  \n",
       "9683         Puzzle, Adventure, Platformer  2170.88          Digital only  \n",
       "9684         Puzzle, Adventure, Platformer  2170.88          Digital only  \n",
       "\n",
       "[7599 rows x 10 columns]"
      ]
     },
     "execution_count": 77,
     "metadata": {},
     "output_type": "execute_result"
    }
   ],
   "source": [
    "df"
   ]
  },
  {
   "cell_type": "markdown",
   "id": "ef3d6f5b",
   "metadata": {},
   "source": [
    "# top 10 publishers and developers of games"
   ]
  },
  {
   "cell_type": "code",
   "execution_count": 78,
   "id": "c40756ef",
   "metadata": {},
   "outputs": [],
   "source": [
    "publisher=df['Publisher'].value_counts().reset_index().head(10)"
   ]
  },
  {
   "cell_type": "code",
   "execution_count": 79,
   "id": "3bd45424",
   "metadata": {},
   "outputs": [],
   "source": [
    "developer=df['Developer'].value_counts().reset_index().head(10)"
   ]
  },
  {
   "cell_type": "code",
   "execution_count": 80,
   "id": "447889ea",
   "metadata": {},
   "outputs": [
    {
     "data": {
      "image/png": "[encoded data removed]",
      "text/plain": [
       "<Figure size 1440x720 with 2 Axes>"
      ]
     },
     "metadata": {
      "needs_background": "light"
     },
     "output_type": "display_data"
    }
   ],
   "source": [
    "plt.figure(figsize=(20,10))\n",
    "plt.subplot(1,2,1)\n",
    "plt.title('Publisher')\n",
    "plt.xticks(rotation=90)\n",
    "sns.barplot('index','Publisher',data=publisher)\n",
    "plt.subplot(1,2,2)\n",
    "plt.title('Developer')\n",
    "plt.xticks(rotation=90)\n",
    "sns.barplot('index','Developer',data=developer)\n",
    "plt.show()"
   ]
  },
  {
   "cell_type": "markdown",
   "id": "6769747b",
   "metadata": {},
   "source": [
    "# how many games are available at digital medium and physical and digital medium"
   ]
  },
  {
   "cell_type": "code",
   "execution_count": 81,
   "id": "4c1b7bd0",
   "metadata": {},
   "outputs": [],
   "source": [
    "medium=df['Medium'].value_counts().reset_index()"
   ]
  },
  {
   "cell_type": "code",
   "execution_count": 82,
   "id": "700e6fbb",
   "metadata": {},
   "outputs": [
    {
     "data": {
      "text/html": [
       "<div>\n",
       "<style scoped>\n",
       "    .dataframe tbody tr th:only-of-type {\n",
       "        vertical-align: middle;\n",
       "    }\n",
       "\n",
       "    .dataframe tbody tr th {\n",
       "        vertical-align: top;\n",
       "    }\n",
       "\n",
       "    .dataframe thead th {\n",
       "        text-align: right;\n",
       "    }\n",
       "</style>\n",
       "<table border=\"1\" class=\"dataframe\">\n",
       "  <thead>\n",
       "    <tr style=\"text-align: right;\">\n",
       "      <th></th>\n",
       "      <th>index</th>\n",
       "      <th>Medium</th>\n",
       "    </tr>\n",
       "  </thead>\n",
       "  <tbody>\n",
       "    <tr>\n",
       "      <th>0</th>\n",
       "      <td>Digital only</td>\n",
       "      <td>4858</td>\n",
       "    </tr>\n",
       "    <tr>\n",
       "      <th>1</th>\n",
       "      <td>Physical and Digital</td>\n",
       "      <td>2738</td>\n",
       "    </tr>\n",
       "    <tr>\n",
       "      <th>2</th>\n",
       "      <td>Physical only</td>\n",
       "      <td>3</td>\n",
       "    </tr>\n",
       "  </tbody>\n",
       "</table>\n",
       "</div>"
      ],
      "text/plain": [
       "                  index  Medium\n",
       "0          Digital only    4858\n",
       "1  Physical and Digital    2738\n",
       "2         Physical only       3"
      ]
     },
     "execution_count": 82,
     "metadata": {},
     "output_type": "execute_result"
    }
   ],
   "source": [
    "medium"
   ]
  },
  {
   "cell_type": "code",
   "execution_count": 83,
   "id": "3d570af0",
   "metadata": {},
   "outputs": [
    {
     "data": {
      "application/vnd.plotly.v1+json": {
       "config": {
        "plotlyServerURL": "https://plot.ly"
       },
       "data": [
        {
         "alignmentgroup": "True",
         "hovertemplate": "index=%{x}<br>Medium=%{y}<extra></extra>",
         "legendgroup": "Digital only",
         "marker": {
          "color": "#636efa",
          "pattern": {
           "shape": ""
          }
         },
         "name": "Digital only",
         "offsetgroup": "Digital only",
         "orientation": "v",
         "showlegend": true,
         "textposition": "auto",
         "type": "bar",
         "x": [
          "Digital only"
         ],
         "xaxis": "x",
         "y": [
          4858
         ],
         "yaxis": "y"
        },
        {
         "alignmentgroup": "True",
         "hovertemplate": "index=%{x}<br>Medium=%{y}<extra></extra>",
         "legendgroup": "Physical and Digital",
         "marker": {
          "color": "#EF553B",
          "pattern": {
           "shape": ""
          }
         },
         "name": "Physical and Digital",
         "offsetgroup": "Physical and Digital",
         "orientation": "v",
         "showlegend": true,
         "textposition": "auto",
         "type": "bar",
         "x": [
          "Physical and Digital"
         ],
         "xaxis": "x",
         "y": [
          2738
         ],
         "yaxis": "y"
        },
        {
         "alignmentgroup": "True",
         "hovertemplate": "index=%{x}<br>Medium=%{y}<extra></extra>",
         "legendgroup": "Physical only",
         "marker": {
          "color": "#00cc96",
          "pattern": {
           "shape": ""
          }
         },
         "name": "Physical only",
         "offsetgroup": "Physical only",
         "orientation": "v",
         "showlegend": true,
         "textposition": "auto",
         "type": "bar",
         "x": [
          "Physical only"
         ],
         "xaxis": "x",
         "y": [
          3
         ],
         "yaxis": "y"
        }
       ],
       "layout": {
        "barmode": "relative",
        "legend": {
         "title": {
          "text": "index"
         },
         "tracegroupgap": 0
        },
        "template": {
         "data": {
          "bar": [
           {
            "error_x": {
             "color": "#2a3f5f"
            },
            "error_y": {
             "color": "#2a3f5f"
            },
            "marker": {
             "line": {
              "color": "#E5ECF6",
              "width": 0.5
             },
             "pattern": {
              "fillmode": "overlay",
              "size": 10,
              "solidity": 0.2
             }
            },
            "type": "bar"
           }
          ],
          "barpolar": [
           {
            "marker": {
             "line": {
              "color": "#E5ECF6",
              "width": 0.5
             },
             "pattern": {
              "fillmode": "overlay",
              "size": 10,
              "solidity": 0.2
             }
            },
            "type": "barpolar"
           }
          ],
          "carpet": [
           {
            "aaxis": {
             "endlinecolor": "#2a3f5f",
             "gridcolor": "white",
             "linecolor": "white",
             "minorgridcolor": "white",
             "startlinecolor": "#2a3f5f"
            },
            "baxis": {
             "endlinecolor": "#2a3f5f",
             "gridcolor": "white",
             "linecolor": "white",
             "minorgridcolor": "white",
             "startlinecolor": "#2a3f5f"
            },
            "type": "carpet"
           }
          ],
          "choropleth": [
           {
            "colorbar": {
             "outlinewidth": 0,
             "ticks": ""
            },
            "type": "choropleth"
           }
          ],
          "contour": [
           {
            "colorbar": {
             "outlinewidth": 0,
             "ticks": ""
            },
            "colorscale": [
             [
              0,
              "#0d0887"
             ],
             [
              0.1111111111111111,
              "#46039f"
             ],
             [
              0.2222222222222222,
              "#7201a8"
             ],
             [
              0.3333333333333333,
              "#9c179e"
             ],
             [
              0.4444444444444444,
              "#bd3786"
             ],
             [
              0.5555555555555556,
              "#d8576b"
             ],
             [
              0.6666666666666666,
              "#ed7953"
             ],
             [
              0.7777777777777778,
              "#fb9f3a"
             ],
             [
              0.8888888888888888,
              "#fdca26"
             ],
             [
              1,
              "#f0f921"
             ]
            ],
            "type": "contour"
           }
          ],
          "contourcarpet": [
           {
            "colorbar": {
             "outlinewidth": 0,
             "ticks": ""
            },
            "type": "contourcarpet"
           }
          ],
          "heatmap": [
           {
            "colorbar": {
             "outlinewidth": 0,
             "ticks": ""
            },
            "colorscale": [
             [
              0,
              "#0d0887"
             ],
             [
              0.1111111111111111,
              "#46039f"
             ],
             [
              0.2222222222222222,
              "#7201a8"
             ],
             [
              0.3333333333333333,
              "#9c179e"
             ],
             [
              0.4444444444444444,
              "#bd3786"
             ],
             [
              0.5555555555555556,
              "#d8576b"
             ],
             [
              0.6666666666666666,
              "#ed7953"
             ],
             [
              0.7777777777777778,
              "#fb9f3a"
             ],
             [
              0.8888888888888888,
              "#fdca26"
             ],
             [
              1,
              "#f0f921"
             ]
            ],
            "type": "heatmap"
           }
          ],
          "heatmapgl": [
           {
            "colorbar": {
             "outlinewidth": 0,
             "ticks": ""
            },
            "colorscale": [
             [
              0,
              "#0d0887"
             ],
             [
              0.1111111111111111,
              "#46039f"
             ],
             [
              0.2222222222222222,
              "#7201a8"
             ],
             [
              0.3333333333333333,
              "#9c179e"
             ],
             [
              0.4444444444444444,
              "#bd3786"
             ],
             [
              0.5555555555555556,
              "#d8576b"
             ],
             [
              0.6666666666666666,
              "#ed7953"
             ],
             [
              0.7777777777777778,
              "#fb9f3a"
             ],
             [
              0.8888888888888888,
              "#fdca26"
             ],
             [
              1,
              "#f0f921"
             ]
            ],
            "type": "heatmapgl"
           }
          ],
          "histogram": [
           {
            "marker": {
             "pattern": {
              "fillmode": "overlay",
              "size": 10,
              "solidity": 0.2
             }
            },
            "type": "histogram"
           }
          ],
          "histogram2d": [
           {
            "colorbar": {
             "outlinewidth": 0,
             "ticks": ""
            },
            "colorscale": [
             [
              0,
              "#0d0887"
             ],
             [
              0.1111111111111111,
              "#46039f"
             ],
             [
              0.2222222222222222,
              "#7201a8"
             ],
             [
              0.3333333333333333,
              "#9c179e"
             ],
             [
              0.4444444444444444,
              "#bd3786"
             ],
             [
              0.5555555555555556,
              "#d8576b"
             ],
             [
              0.6666666666666666,
              "#ed7953"
             ],
             [
              0.7777777777777778,
              "#fb9f3a"
             ],
             [
              0.8888888888888888,
              "#fdca26"
             ],
             [
              1,
              "#f0f921"
             ]
            ],
            "type": "histogram2d"
           }
          ],
          "histogram2dcontour": [
           {
            "colorbar": {
             "outlinewidth": 0,
             "ticks": ""
            },
            "colorscale": [
             [
              0,
              "#0d0887"
             ],
             [
              0.1111111111111111,
              "#46039f"
             ],
             [
              0.2222222222222222,
              "#7201a8"
             ],
             [
              0.3333333333333333,
              "#9c179e"
             ],
             [
              0.4444444444444444,
              "#bd3786"
             ],
             [
              0.5555555555555556,
              "#d8576b"
             ],
             [
              0.6666666666666666,
              "#ed7953"
             ],
             [
              0.7777777777777778,
              "#fb9f3a"
             ],
             [
              0.8888888888888888,
              "#fdca26"
             ],
             [
              1,
              "#f0f921"
             ]
            ],
            "type": "histogram2dcontour"
           }
          ],
          "mesh3d": [
           {
            "colorbar": {
             "outlinewidth": 0,
             "ticks": ""
            },
            "type": "mesh3d"
           }
          ],
          "parcoords": [
           {
            "line": {
             "colorbar": {
              "outlinewidth": 0,
              "ticks": ""
             }
            },
            "type": "parcoords"
           }
          ],
          "pie": [
           {
            "automargin": true,
            "type": "pie"
           }
          ],
          "scatter": [
           {
            "marker": {
             "colorbar": {
              "outlinewidth": 0,
              "ticks": ""
             }
            },
            "type": "scatter"
           }
          ],
          "scatter3d": [
           {
            "line": {
             "colorbar": {
              "outlinewidth": 0,
              "ticks": ""
             }
            },
            "marker": {
             "colorbar": {
              "outlinewidth": 0,
              "ticks": ""
             }
            },
            "type": "scatter3d"
           }
          ],
          "scattercarpet": [
           {
            "marker": {
             "colorbar": {
              "outlinewidth": 0,
              "ticks": ""
             }
            },
            "type": "scattercarpet"
           }
          ],
          "scattergeo": [
           {
            "marker": {
             "colorbar": {
              "outlinewidth": 0,
              "ticks": ""
             }
            },
            "type": "scattergeo"
           }
          ],
          "scattergl": [
           {
            "marker": {
             "colorbar": {
              "outlinewidth": 0,
              "ticks": ""
             }
            },
            "type": "scattergl"
           }
          ],
          "scattermapbox": [
           {
            "marker": {
             "colorbar": {
              "outlinewidth": 0,
              "ticks": ""
             }
            },
            "type": "scattermapbox"
           }
          ],
          "scatterpolar": [
           {
            "marker": {
             "colorbar": {
              "outlinewidth": 0,
              "ticks": ""
             }
            },
            "type": "scatterpolar"
           }
          ],
          "scatterpolargl": [
           {
            "marker": {
             "colorbar": {
              "outlinewidth": 0,
              "ticks": ""
             }
            },
            "type": "scatterpolargl"
           }
          ],
          "scatterternary": [
           {
            "marker": {
             "colorbar": {
              "outlinewidth": 0,
              "ticks": ""
             }
            },
            "type": "scatterternary"
           }
          ],
          "surface": [
           {
            "colorbar": {
             "outlinewidth": 0,
             "ticks": ""
            },
            "colorscale": [
             [
              0,
              "#0d0887"
             ],
             [
              0.1111111111111111,
              "#46039f"
             ],
             [
              0.2222222222222222,
              "#7201a8"
             ],
             [
              0.3333333333333333,
              "#9c179e"
             ],
             [
              0.4444444444444444,
              "#bd3786"
             ],
             [
              0.5555555555555556,
              "#d8576b"
             ],
             [
              0.6666666666666666,
              "#ed7953"
             ],
             [
              0.7777777777777778,
              "#fb9f3a"
             ],
             [
              0.8888888888888888,
              "#fdca26"
             ],
             [
              1,
              "#f0f921"
             ]
            ],
            "type": "surface"
           }
          ],
          "table": [
           {
            "cells": {
             "fill": {
              "color": "#EBF0F8"
             },
             "line": {
              "color": "white"
             }
            },
            "header": {
             "fill": {
              "color": "#C8D4E3"
             },
             "line": {
              "color": "white"
             }
            },
            "type": "table"
           }
          ]
         },
         "layout": {
          "annotationdefaults": {
           "arrowcolor": "#2a3f5f",
           "arrowhead": 0,
           "arrowwidth": 1
          },
          "autotypenumbers": "strict",
          "coloraxis": {
           "colorbar": {
            "outlinewidth": 0,
            "ticks": ""
           }
          },
          "colorscale": {
           "diverging": [
            [
             0,
             "#8e0152"
            ],
            [
             0.1,
             "#c51b7d"
            ],
            [
             0.2,
             "#de77ae"
            ],
            [
             0.3,
             "#f1b6da"
            ],
            [
             0.4,
             "#fde0ef"
            ],
            [
             0.5,
             "#f7f7f7"
            ],
            [
             0.6,
             "#e6f5d0"
            ],
            [
             0.7,
             "#b8e186"
            ],
            [
             0.8,
             "#7fbc41"
            ],
            [
             0.9,
             "#4d9221"
            ],
            [
             1,
             "#276419"
            ]
           ],
           "sequential": [
            [
             0,
             "#0d0887"
            ],
            [
             0.1111111111111111,
             "#46039f"
            ],
            [
             0.2222222222222222,
             "#7201a8"
            ],
            [
             0.3333333333333333,
             "#9c179e"
            ],
            [
             0.4444444444444444,
             "#bd3786"
            ],
            [
             0.5555555555555556,
             "#d8576b"
            ],
            [
             0.6666666666666666,
             "#ed7953"
            ],
            [
             0.7777777777777778,
             "#fb9f3a"
            ],
            [
             0.8888888888888888,
             "#fdca26"
            ],
            [
             1,
             "#f0f921"
            ]
           ],
           "sequentialminus": [
            [
             0,
             "#0d0887"
            ],
            [
             0.1111111111111111,
             "#46039f"
            ],
            [
             0.2222222222222222,
             "#7201a8"
            ],
            [
             0.3333333333333333,
             "#9c179e"
            ],
            [
             0.4444444444444444,
             "#bd3786"
            ],
            [
             0.5555555555555556,
             "#d8576b"
            ],
            [
             0.6666666666666666,
             "#ed7953"
            ],
            [
             0.7777777777777778,
             "#fb9f3a"
            ],
            [
             0.8888888888888888,
             "#fdca26"
            ],
            [
             1,
             "#f0f921"
            ]
           ]
          },
          "colorway": [
           "#636efa",
           "#EF553B",
           "#00cc96",
           "#ab63fa",
           "#FFA15A",
           "#19d3f3",
           "#FF6692",
           "#B6E880",
           "#FF97FF",
           "#FECB52"
          ],
          "font": {
           "color": "#2a3f5f"
          },
          "geo": {
           "bgcolor": "white",
           "lakecolor": "white",
           "landcolor": "#E5ECF6",
           "showlakes": true,
           "showland": true,
           "subunitcolor": "white"
          },
          "hoverlabel": {
           "align": "left"
          },
          "hovermode": "closest",
          "mapbox": {
           "style": "light"
          },
          "paper_bgcolor": "white",
          "plot_bgcolor": "#E5ECF6",
          "polar": {
           "angularaxis": {
            "gridcolor": "white",
            "linecolor": "white",
            "ticks": ""
           },
           "bgcolor": "#E5ECF6",
           "radialaxis": {
            "gridcolor": "white",
            "linecolor": "white",
            "ticks": ""
           }
          },
          "scene": {
           "xaxis": {
            "backgroundcolor": "#E5ECF6",
            "gridcolor": "white",
            "gridwidth": 2,
            "linecolor": "white",
            "showbackground": true,
            "ticks": "",
            "zerolinecolor": "white"
           },
           "yaxis": {
            "backgroundcolor": "#E5ECF6",
            "gridcolor": "white",
            "gridwidth": 2,
            "linecolor": "white",
            "showbackground": true,
            "ticks": "",
            "zerolinecolor": "white"
           },
           "zaxis": {
            "backgroundcolor": "#E5ECF6",
            "gridcolor": "white",
            "gridwidth": 2,
            "linecolor": "white",
            "showbackground": true,
            "ticks": "",
            "zerolinecolor": "white"
           }
          },
          "shapedefaults": {
           "line": {
            "color": "#2a3f5f"
           }
          },
          "ternary": {
           "aaxis": {
            "gridcolor": "white",
            "linecolor": "white",
            "ticks": ""
           },
           "baxis": {
            "gridcolor": "white",
            "linecolor": "white",
            "ticks": ""
           },
           "bgcolor": "#E5ECF6",
           "caxis": {
            "gridcolor": "white",
            "linecolor": "white",
            "ticks": ""
           }
          },
          "title": {
           "x": 0.05
          },
          "xaxis": {
           "automargin": true,
           "gridcolor": "white",
           "linecolor": "white",
           "ticks": "",
           "title": {
            "standoff": 15
           },
           "zerolinecolor": "white",
           "zerolinewidth": 2
          },
          "yaxis": {
           "automargin": true,
           "gridcolor": "white",
           "linecolor": "white",
           "ticks": "",
           "title": {
            "standoff": 15
           },
           "zerolinecolor": "white",
           "zerolinewidth": 2
          }
         }
        },
        "title": {
         "text": "No. of games in diffrent mediums"
        },
        "xaxis": {
         "anchor": "y",
         "categoryarray": [
          "Digital only",
          "Physical and Digital",
          "Physical only"
         ],
         "categoryorder": "array",
         "domain": [
          0,
          1
         ],
         "title": {
          "text": "index"
         }
        },
        "yaxis": {
         "anchor": "x",
         "domain": [
          0,
          1
         ],
         "title": {
          "text": "Medium"
         }
        }
       }
      },
      "text/html": [
       "<div>                            <div id=\"07544d12-2cd1-43a9-8dbb-181962e08108\" class=\"plotly-graph-div\" style=\"height:525px; width:100%;\"></div>            <script type=\"text/javascript\">                require([\"plotly\"], function(Plotly) {                    window.PLOTLYENV=window.PLOTLYENV || {};                                    if (document.getElementById(\"07544d12-2cd1-43a9-8dbb-181962e08108\")) {                    Plotly.newPlot(                        \"07544d12-2cd1-43a9-8dbb-181962e08108\",                        [{\"alignmentgroup\":\"True\",\"hovertemplate\":\"index=%{x}<br>Medium=%{y}<extra></extra>\",\"legendgroup\":\"Digital only\",\"marker\":{\"color\":\"#636efa\",\"pattern\":{\"shape\":\"\"}},\"name\":\"Digital only\",\"offsetgroup\":\"Digital only\",\"orientation\":\"v\",\"showlegend\":true,\"textposition\":\"auto\",\"x\":[\"Digital only\"],\"xaxis\":\"x\",\"y\":[4858],\"yaxis\":\"y\",\"type\":\"bar\"},{\"alignmentgroup\":\"True\",\"hovertemplate\":\"index=%{x}<br>Medium=%{y}<extra></extra>\",\"legendgroup\":\"Physical and Digital\",\"marker\":{\"color\":\"#EF553B\",\"pattern\":{\"shape\":\"\"}},\"name\":\"Physical and Digital\",\"offsetgroup\":\"Physical and Digital\",\"orientation\":\"v\",\"showlegend\":true,\"textposition\":\"auto\",\"x\":[\"Physical and Digital\"],\"xaxis\":\"x\",\"y\":[2738],\"yaxis\":\"y\",\"type\":\"bar\"},{\"alignmentgroup\":\"True\",\"hovertemplate\":\"index=%{x}<br>Medium=%{y}<extra></extra>\",\"legendgroup\":\"Physical only\",\"marker\":{\"color\":\"#00cc96\",\"pattern\":{\"shape\":\"\"}},\"name\":\"Physical only\",\"offsetgroup\":\"Physical only\",\"orientation\":\"v\",\"showlegend\":true,\"textposition\":\"auto\",\"x\":[\"Physical only\"],\"xaxis\":\"x\",\"y\":[3],\"yaxis\":\"y\",\"type\":\"bar\"}],                        {\"template\":{\"data\":{\"bar\":[{\"error_x\":{\"color\":\"#2a3f5f\"},\"error_y\":{\"color\":\"#2a3f5f\"},\"marker\":{\"line\":{\"color\":\"#E5ECF6\",\"width\":0.5},\"pattern\":{\"fillmode\":\"overlay\",\"size\":10,\"solidity\":0.2}},\"type\":\"bar\"}],\"barpolar\":[{\"marker\":{\"line\":{\"color\":\"#E5ECF6\",\"width\":0.5},\"pattern\":{\"fillmode\":\"overlay\",\"size\":10,\"solidity\":0.2}},\"type\":\"barpolar\"}],\"carpet\":[{\"aaxis\":{\"endlinecolor\":\"#2a3f5f\",\"gridcolor\":\"white\",\"linecolor\":\"white\",\"minorgridcolor\":\"white\",\"startlinecolor\":\"#2a3f5f\"},\"baxis\":{\"endlinecolor\":\"#2a3f5f\",\"gridcolor\":\"white\",\"linecolor\":\"white\",\"minorgridcolor\":\"white\",\"startlinecolor\":\"#2a3f5f\"},\"type\":\"carpet\"}],\"choropleth\":[{\"colorbar\":{\"outlinewidth\":0,\"ticks\":\"\"},\"type\":\"choropleth\"}],\"contour\":[{\"colorbar\":{\"outlinewidth\":0,\"ticks\":\"\"},\"colorscale\":[[0.0,\"#0d0887\"],[0.1111111111111111,\"#46039f\"],[0.2222222222222222,\"#7201a8\"],[0.3333333333333333,\"#9c179e\"],[0.4444444444444444,\"#bd3786\"],[0.5555555555555556,\"#d8576b\"],[0.6666666666666666,\"#ed7953\"],[0.7777777777777778,\"#fb9f3a\"],[0.8888888888888888,\"#fdca26\"],[1.0,\"#f0f921\"]],\"type\":\"contour\"}],\"contourcarpet\":[{\"colorbar\":{\"outlinewidth\":0,\"ticks\":\"\"},\"type\":\"contourcarpet\"}],\"heatmap\":[{\"colorbar\":{\"outlinewidth\":0,\"ticks\":\"\"},\"colorscale\":[[0.0,\"#0d0887\"],[0.1111111111111111,\"#46039f\"],[0.2222222222222222,\"#7201a8\"],[0.3333333333333333,\"#9c179e\"],[0.4444444444444444,\"#bd3786\"],[0.5555555555555556,\"#d8576b\"],[0.6666666666666666,\"#ed7953\"],[0.7777777777777778,\"#fb9f3a\"],[0.8888888888888888,\"#fdca26\"],[1.0,\"#f0f921\"]],\"type\":\"heatmap\"}],\"heatmapgl\":[{\"colorbar\":{\"outlinewidth\":0,\"ticks\":\"\"},\"colorscale\":[[0.0,\"#0d0887\"],[0.1111111111111111,\"#46039f\"],[0.2222222222222222,\"#7201a8\"],[0.3333333333333333,\"#9c179e\"],[0.4444444444444444,\"#bd3786\"],[0.5555555555555556,\"#d8576b\"],[0.6666666666666666,\"#ed7953\"],[0.7777777777777778,\"#fb9f3a\"],[0.8888888888888888,\"#fdca26\"],[1.0,\"#f0f921\"]],\"type\":\"heatmapgl\"}],\"histogram\":[{\"marker\":{\"pattern\":{\"fillmode\":\"overlay\",\"size\":10,\"solidity\":0.2}},\"type\":\"histogram\"}],\"histogram2d\":[{\"colorbar\":{\"outlinewidth\":0,\"ticks\":\"\"},\"colorscale\":[[0.0,\"#0d0887\"],[0.1111111111111111,\"#46039f\"],[0.2222222222222222,\"#7201a8\"],[0.3333333333333333,\"#9c179e\"],[0.4444444444444444,\"#bd3786\"],[0.5555555555555556,\"#d8576b\"],[0.6666666666666666,\"#ed7953\"],[0.7777777777777778,\"#fb9f3a\"],[0.8888888888888888,\"#fdca26\"],[1.0,\"#f0f921\"]],\"type\":\"histogram2d\"}],\"histogram2dcontour\":[{\"colorbar\":{\"outlinewidth\":0,\"ticks\":\"\"},\"colorscale\":[[0.0,\"#0d0887\"],[0.1111111111111111,\"#46039f\"],[0.2222222222222222,\"#7201a8\"],[0.3333333333333333,\"#9c179e\"],[0.4444444444444444,\"#bd3786\"],[0.5555555555555556,\"#d8576b\"],[0.6666666666666666,\"#ed7953\"],[0.7777777777777778,\"#fb9f3a\"],[0.8888888888888888,\"#fdca26\"],[1.0,\"#f0f921\"]],\"type\":\"histogram2dcontour\"}],\"mesh3d\":[{\"colorbar\":{\"outlinewidth\":0,\"ticks\":\"\"},\"type\":\"mesh3d\"}],\"parcoords\":[{\"line\":{\"colorbar\":{\"outlinewidth\":0,\"ticks\":\"\"}},\"type\":\"parcoords\"}],\"pie\":[{\"automargin\":true,\"type\":\"pie\"}],\"scatter\":[{\"marker\":{\"colorbar\":{\"outlinewidth\":0,\"ticks\":\"\"}},\"type\":\"scatter\"}],\"scatter3d\":[{\"line\":{\"colorbar\":{\"outlinewidth\":0,\"ticks\":\"\"}},\"marker\":{\"colorbar\":{\"outlinewidth\":0,\"ticks\":\"\"}},\"type\":\"scatter3d\"}],\"scattercarpet\":[{\"marker\":{\"colorbar\":{\"outlinewidth\":0,\"ticks\":\"\"}},\"type\":\"scattercarpet\"}],\"scattergeo\":[{\"marker\":{\"colorbar\":{\"outlinewidth\":0,\"ticks\":\"\"}},\"type\":\"scattergeo\"}],\"scattergl\":[{\"marker\":{\"colorbar\":{\"outlinewidth\":0,\"ticks\":\"\"}},\"type\":\"scattergl\"}],\"scattermapbox\":[{\"marker\":{\"colorbar\":{\"outlinewidth\":0,\"ticks\":\"\"}},\"type\":\"scattermapbox\"}],\"scatterpolar\":[{\"marker\":{\"colorbar\":{\"outlinewidth\":0,\"ticks\":\"\"}},\"type\":\"scatterpolar\"}],\"scatterpolargl\":[{\"marker\":{\"colorbar\":{\"outlinewidth\":0,\"ticks\":\"\"}},\"type\":\"scatterpolargl\"}],\"scatterternary\":[{\"marker\":{\"colorbar\":{\"outlinewidth\":0,\"ticks\":\"\"}},\"type\":\"scatterternary\"}],\"surface\":[{\"colorbar\":{\"outlinewidth\":0,\"ticks\":\"\"},\"colorscale\":[[0.0,\"#0d0887\"],[0.1111111111111111,\"#46039f\"],[0.2222222222222222,\"#7201a8\"],[0.3333333333333333,\"#9c179e\"],[0.4444444444444444,\"#bd3786\"],[0.5555555555555556,\"#d8576b\"],[0.6666666666666666,\"#ed7953\"],[0.7777777777777778,\"#fb9f3a\"],[0.8888888888888888,\"#fdca26\"],[1.0,\"#f0f921\"]],\"type\":\"surface\"}],\"table\":[{\"cells\":{\"fill\":{\"color\":\"#EBF0F8\"},\"line\":{\"color\":\"white\"}},\"header\":{\"fill\":{\"color\":\"#C8D4E3\"},\"line\":{\"color\":\"white\"}},\"type\":\"table\"}]},\"layout\":{\"annotationdefaults\":{\"arrowcolor\":\"#2a3f5f\",\"arrowhead\":0,\"arrowwidth\":1},\"autotypenumbers\":\"strict\",\"coloraxis\":{\"colorbar\":{\"outlinewidth\":0,\"ticks\":\"\"}},\"colorscale\":{\"diverging\":[[0,\"#8e0152\"],[0.1,\"#c51b7d\"],[0.2,\"#de77ae\"],[0.3,\"#f1b6da\"],[0.4,\"#fde0ef\"],[0.5,\"#f7f7f7\"],[0.6,\"#e6f5d0\"],[0.7,\"#b8e186\"],[0.8,\"#7fbc41\"],[0.9,\"#4d9221\"],[1,\"#276419\"]],\"sequential\":[[0.0,\"#0d0887\"],[0.1111111111111111,\"#46039f\"],[0.2222222222222222,\"#7201a8\"],[0.3333333333333333,\"#9c179e\"],[0.4444444444444444,\"#bd3786\"],[0.5555555555555556,\"#d8576b\"],[0.6666666666666666,\"#ed7953\"],[0.7777777777777778,\"#fb9f3a\"],[0.8888888888888888,\"#fdca26\"],[1.0,\"#f0f921\"]],\"sequentialminus\":[[0.0,\"#0d0887\"],[0.1111111111111111,\"#46039f\"],[0.2222222222222222,\"#7201a8\"],[0.3333333333333333,\"#9c179e\"],[0.4444444444444444,\"#bd3786\"],[0.5555555555555556,\"#d8576b\"],[0.6666666666666666,\"#ed7953\"],[0.7777777777777778,\"#fb9f3a\"],[0.8888888888888888,\"#fdca26\"],[1.0,\"#f0f921\"]]},\"colorway\":[\"#636efa\",\"#EF553B\",\"#00cc96\",\"#ab63fa\",\"#FFA15A\",\"#19d3f3\",\"#FF6692\",\"#B6E880\",\"#FF97FF\",\"#FECB52\"],\"font\":{\"color\":\"#2a3f5f\"},\"geo\":{\"bgcolor\":\"white\",\"lakecolor\":\"white\",\"landcolor\":\"#E5ECF6\",\"showlakes\":true,\"showland\":true,\"subunitcolor\":\"white\"},\"hoverlabel\":{\"align\":\"left\"},\"hovermode\":\"closest\",\"mapbox\":{\"style\":\"light\"},\"paper_bgcolor\":\"white\",\"plot_bgcolor\":\"#E5ECF6\",\"polar\":{\"angularaxis\":{\"gridcolor\":\"white\",\"linecolor\":\"white\",\"ticks\":\"\"},\"bgcolor\":\"#E5ECF6\",\"radialaxis\":{\"gridcolor\":\"white\",\"linecolor\":\"white\",\"ticks\":\"\"}},\"scene\":{\"xaxis\":{\"backgroundcolor\":\"#E5ECF6\",\"gridcolor\":\"white\",\"gridwidth\":2,\"linecolor\":\"white\",\"showbackground\":true,\"ticks\":\"\",\"zerolinecolor\":\"white\"},\"yaxis\":{\"backgroundcolor\":\"#E5ECF6\",\"gridcolor\":\"white\",\"gridwidth\":2,\"linecolor\":\"white\",\"showbackground\":true,\"ticks\":\"\",\"zerolinecolor\":\"white\"},\"zaxis\":{\"backgroundcolor\":\"#E5ECF6\",\"gridcolor\":\"white\",\"gridwidth\":2,\"linecolor\":\"white\",\"showbackground\":true,\"ticks\":\"\",\"zerolinecolor\":\"white\"}},\"shapedefaults\":{\"line\":{\"color\":\"#2a3f5f\"}},\"ternary\":{\"aaxis\":{\"gridcolor\":\"white\",\"linecolor\":\"white\",\"ticks\":\"\"},\"baxis\":{\"gridcolor\":\"white\",\"linecolor\":\"white\",\"ticks\":\"\"},\"bgcolor\":\"#E5ECF6\",\"caxis\":{\"gridcolor\":\"white\",\"linecolor\":\"white\",\"ticks\":\"\"}},\"title\":{\"x\":0.05},\"xaxis\":{\"automargin\":true,\"gridcolor\":\"white\",\"linecolor\":\"white\",\"ticks\":\"\",\"title\":{\"standoff\":15},\"zerolinecolor\":\"white\",\"zerolinewidth\":2},\"yaxis\":{\"automargin\":true,\"gridcolor\":\"white\",\"linecolor\":\"white\",\"ticks\":\"\",\"title\":{\"standoff\":15},\"zerolinecolor\":\"white\",\"zerolinewidth\":2}}},\"xaxis\":{\"anchor\":\"y\",\"domain\":[0.0,1.0],\"title\":{\"text\":\"index\"},\"categoryorder\":\"array\",\"categoryarray\":[\"Digital only\",\"Physical and Digital\",\"Physical only\"]},\"yaxis\":{\"anchor\":\"x\",\"domain\":[0.0,1.0],\"title\":{\"text\":\"Medium\"}},\"legend\":{\"title\":{\"text\":\"index\"},\"tracegroupgap\":0},\"title\":{\"text\":\"No. of games in diffrent mediums\"},\"barmode\":\"relative\"},                        {\"responsive\": true}                    ).then(function(){\n",
       "                            \n",
       "var gd = document.getElementById('07544d12-2cd1-43a9-8dbb-181962e08108');\n",
       "var x = new MutationObserver(function (mutations, observer) {{\n",
       "        var display = window.getComputedStyle(gd).display;\n",
       "        if (!display || display === 'none') {{\n",
       "            console.log([gd, 'removed!']);\n",
       "            Plotly.purge(gd);\n",
       "            observer.disconnect();\n",
       "        }}\n",
       "}});\n",
       "\n",
       "// Listen for the removal of the full notebook cells\n",
       "var notebookContainer = gd.closest('#notebook-container');\n",
       "if (notebookContainer) {{\n",
       "    x.observe(notebookContainer, {childList: true});\n",
       "}}\n",
       "\n",
       "// Listen for the clearing of the current output cell\n",
       "var outputEl = gd.closest('.output');\n",
       "if (outputEl) {{\n",
       "    x.observe(outputEl, {childList: true});\n",
       "}}\n",
       "\n",
       "                        })                };                });            </script>        </div>"
      ]
     },
     "metadata": {},
     "output_type": "display_data"
    }
   ],
   "source": [
    "\n",
    "fig=px.bar(medium,'index',\"Medium\",color='index',title='No. of games in diffrent mediums')\n",
    "fig.show()"
   ]
  },
  {
   "cell_type": "markdown",
   "id": "b2268162",
   "metadata": {},
   "source": [
    "# NO. of games that has common publisher and devleoper "
   ]
  },
  {
   "cell_type": "code",
   "execution_count": 85,
   "id": "b9b941e7",
   "metadata": {},
   "outputs": [
    {
     "name": "stdout",
     "output_type": "stream",
     "text": [
      "The no. of games that has common publisher and developer is 2758\n"
     ]
    }
   ],
   "source": [
    "c=0\n",
    "for i,j in zip(df['Publisher'],df['Developer']):\n",
    "    if i==j:\n",
    "        c=c+1\n",
    "print('The no. of games that has common publisher and developer is',c)\n"
   ]
  },
  {
   "cell_type": "code",
   "execution_count": 86,
   "id": "c2566b86",
   "metadata": {},
   "outputs": [
    {
     "data": {
      "text/html": [
       "<div>\n",
       "<style scoped>\n",
       "    .dataframe tbody tr th:only-of-type {\n",
       "        vertical-align: middle;\n",
       "    }\n",
       "\n",
       "    .dataframe tbody tr th {\n",
       "        vertical-align: top;\n",
       "    }\n",
       "\n",
       "    .dataframe thead th {\n",
       "        text-align: right;\n",
       "    }\n",
       "</style>\n",
       "<table border=\"1\" class=\"dataframe\">\n",
       "  <thead>\n",
       "    <tr style=\"text-align: right;\">\n",
       "      <th></th>\n",
       "      <th>ID</th>\n",
       "      <th>GamePSID</th>\n",
       "      <th>GameName</th>\n",
       "      <th>Publisher</th>\n",
       "      <th>ReleaseYear</th>\n",
       "      <th>ReleaseDate</th>\n",
       "      <th>Developer</th>\n",
       "      <th>Genre</th>\n",
       "      <th>Size</th>\n",
       "      <th>Medium</th>\n",
       "    </tr>\n",
       "  </thead>\n",
       "  <tbody>\n",
       "    <tr>\n",
       "      <th>1</th>\n",
       "      <td>2</td>\n",
       "      <td>3051</td>\n",
       "      <td>Q*Bert Rebooted (EU)</td>\n",
       "      <td>LOOT Interactive</td>\n",
       "      <td>2015.0</td>\n",
       "      <td>2015-07-22</td>\n",
       "      <td>LOOT Interactive</td>\n",
       "      <td>Action</td>\n",
       "      <td>127.00</td>\n",
       "      <td>Digital only</td>\n",
       "    </tr>\n",
       "    <tr>\n",
       "      <th>2</th>\n",
       "      <td>3</td>\n",
       "      <td>6703</td>\n",
       "      <td>Q.U.B.E. 2</td>\n",
       "      <td>Trapped Nerve Games</td>\n",
       "      <td>2018.0</td>\n",
       "      <td>2018-03-13</td>\n",
       "      <td>Toxic Games</td>\n",
       "      <td>Puzzle, Platformer</td>\n",
       "      <td>2682.88</td>\n",
       "      <td>Digital only</td>\n",
       "    </tr>\n",
       "    <tr>\n",
       "      <th>3</th>\n",
       "      <td>4</td>\n",
       "      <td>3403</td>\n",
       "      <td>Q.U.B.E. Director's Cut</td>\n",
       "      <td>GRIP Digital</td>\n",
       "      <td>2015.0</td>\n",
       "      <td>2015-07-21</td>\n",
       "      <td>Toxic Games</td>\n",
       "      <td>Puzzle, Platformer</td>\n",
       "      <td>1945.60</td>\n",
       "      <td>Digital only</td>\n",
       "    </tr>\n",
       "    <tr>\n",
       "      <th>10</th>\n",
       "      <td>11</td>\n",
       "      <td>10196</td>\n",
       "      <td>Quar: Infernal Machines</td>\n",
       "      <td>Hoplite Research</td>\n",
       "      <td>2019.0</td>\n",
       "      <td>2019-05-15</td>\n",
       "      <td>Funbox Media</td>\n",
       "      <td>Strategy, Turn Based</td>\n",
       "      <td>1904.64</td>\n",
       "      <td>Physical and Digital</td>\n",
       "    </tr>\n",
       "    <tr>\n",
       "      <th>11</th>\n",
       "      <td>12</td>\n",
       "      <td>8045</td>\n",
       "      <td>Quar: Infernal Machines (EU)</td>\n",
       "      <td>Hoplite Research</td>\n",
       "      <td>2019.0</td>\n",
       "      <td>2019-03-15</td>\n",
       "      <td>Funbox Media</td>\n",
       "      <td>Strategy, Turn Based</td>\n",
       "      <td>1914.88</td>\n",
       "      <td>Physical and Digital</td>\n",
       "    </tr>\n",
       "    <tr>\n",
       "      <th>...</th>\n",
       "      <td>...</td>\n",
       "      <td>...</td>\n",
       "      <td>...</td>\n",
       "      <td>...</td>\n",
       "      <td>...</td>\n",
       "      <td>...</td>\n",
       "      <td>...</td>\n",
       "      <td>...</td>\n",
       "      <td>...</td>\n",
       "      <td>...</td>\n",
       "    </tr>\n",
       "    <tr>\n",
       "      <th>9680</th>\n",
       "      <td>9681</td>\n",
       "      <td>6051</td>\n",
       "      <td>99Vidas (EU)</td>\n",
       "      <td>QUByte Interactive</td>\n",
       "      <td>2017.0</td>\n",
       "      <td>2017-12-08</td>\n",
       "      <td>QUByte Interactive</td>\n",
       "      <td>Beat 'em up</td>\n",
       "      <td>2938.88</td>\n",
       "      <td>Physical and Digital</td>\n",
       "    </tr>\n",
       "    <tr>\n",
       "      <th>9681</th>\n",
       "      <td>9682</td>\n",
       "      <td>10928</td>\n",
       "      <td>9th Dawn III</td>\n",
       "      <td>Valorware</td>\n",
       "      <td>2020.0</td>\n",
       "      <td>2020-10-06</td>\n",
       "      <td>Valorware</td>\n",
       "      <td>Open World, Action-RPG, Role Playing</td>\n",
       "      <td>653.00</td>\n",
       "      <td>Physical and Digital</td>\n",
       "    </tr>\n",
       "    <tr>\n",
       "      <th>9682</th>\n",
       "      <td>9683</td>\n",
       "      <td>10929</td>\n",
       "      <td>9th Dawn III (EU)</td>\n",
       "      <td>Valorware</td>\n",
       "      <td>2020.0</td>\n",
       "      <td>2020-10-06</td>\n",
       "      <td>Valorware</td>\n",
       "      <td>Open World, Action-RPG, Role Playing</td>\n",
       "      <td>653.00</td>\n",
       "      <td>Digital only</td>\n",
       "    </tr>\n",
       "    <tr>\n",
       "      <th>9683</th>\n",
       "      <td>9684</td>\n",
       "      <td>7114</td>\n",
       "      <td>n Verlore Verstand</td>\n",
       "      <td>Skobbejak Games</td>\n",
       "      <td>2018.0</td>\n",
       "      <td>2018-06-12</td>\n",
       "      <td>Skobbejak Games</td>\n",
       "      <td>Puzzle, Adventure, Platformer</td>\n",
       "      <td>2170.88</td>\n",
       "      <td>Digital only</td>\n",
       "    </tr>\n",
       "    <tr>\n",
       "      <th>9684</th>\n",
       "      <td>9685</td>\n",
       "      <td>7110</td>\n",
       "      <td>n Verlore Verstand (EU)</td>\n",
       "      <td>Skobbejak Games</td>\n",
       "      <td>2018.0</td>\n",
       "      <td>2018-06-12</td>\n",
       "      <td>Skobbejak Games</td>\n",
       "      <td>Puzzle, Adventure, Platformer</td>\n",
       "      <td>2170.88</td>\n",
       "      <td>Digital only</td>\n",
       "    </tr>\n",
       "  </tbody>\n",
       "</table>\n",
       "<p>7599 rows × 10 columns</p>\n",
       "</div>"
      ],
      "text/plain": [
       "        ID  GamePSID                      GameName            Publisher  \\\n",
       "1        2      3051          Q*Bert Rebooted (EU)     LOOT Interactive   \n",
       "2        3      6703                    Q.U.B.E. 2  Trapped Nerve Games   \n",
       "3        4      3403       Q.U.B.E. Director's Cut         GRIP Digital   \n",
       "10      11     10196       Quar: Infernal Machines     Hoplite Research   \n",
       "11      12      8045  Quar: Infernal Machines (EU)     Hoplite Research   \n",
       "...    ...       ...                           ...                  ...   \n",
       "9680  9681      6051                  99Vidas (EU)   QUByte Interactive   \n",
       "9681  9682     10928                  9th Dawn III            Valorware   \n",
       "9682  9683     10929             9th Dawn III (EU)            Valorware   \n",
       "9683  9684      7114            n Verlore Verstand      Skobbejak Games   \n",
       "9684  9685      7110       n Verlore Verstand (EU)      Skobbejak Games   \n",
       "\n",
       "      ReleaseYear ReleaseDate           Developer  \\\n",
       "1          2015.0  2015-07-22    LOOT Interactive   \n",
       "2          2018.0  2018-03-13         Toxic Games   \n",
       "3          2015.0  2015-07-21         Toxic Games   \n",
       "10         2019.0  2019-05-15        Funbox Media   \n",
       "11         2019.0  2019-03-15        Funbox Media   \n",
       "...           ...         ...                 ...   \n",
       "9680       2017.0  2017-12-08  QUByte Interactive   \n",
       "9681       2020.0  2020-10-06           Valorware   \n",
       "9682       2020.0  2020-10-06           Valorware   \n",
       "9683       2018.0  2018-06-12     Skobbejak Games   \n",
       "9684       2018.0  2018-06-12     Skobbejak Games   \n",
       "\n",
       "                                     Genre     Size                Medium  \n",
       "1                                   Action   127.00          Digital only  \n",
       "2                       Puzzle, Platformer  2682.88          Digital only  \n",
       "3                       Puzzle, Platformer  1945.60          Digital only  \n",
       "10                    Strategy, Turn Based  1904.64  Physical and Digital  \n",
       "11                    Strategy, Turn Based  1914.88  Physical and Digital  \n",
       "...                                    ...      ...                   ...  \n",
       "9680                           Beat 'em up  2938.88  Physical and Digital  \n",
       "9681  Open World, Action-RPG, Role Playing   653.00  Physical and Digital  \n",
       "9682  Open World, Action-RPG, Role Playing   653.00          Digital only  \n",
       "9683         Puzzle, Adventure, Platformer  2170.88          Digital only  \n",
       "9684         Puzzle, Adventure, Platformer  2170.88          Digital only  \n",
       "\n",
       "[7599 rows x 10 columns]"
      ]
     },
     "execution_count": 86,
     "metadata": {},
     "output_type": "execute_result"
    }
   ],
   "source": [
    "df"
   ]
  },
  {
   "cell_type": "code",
   "execution_count": null,
   "id": "e83b4a36",
   "metadata": {},
   "outputs": [],
   "source": []
  },
  {
   "cell_type": "code",
   "execution_count": null,
   "id": "c2c3f3f3",
   "metadata": {},
   "outputs": [],
   "source": []
  }
 ],
 "metadata": {
  "kernelspec": {
   "display_name": "Python 3 (ipykernel)",
   "language": "python",
   "name": "python3"
  },
  "language_info": {
   "codemirror_mode": {
    "name": "ipython",
    "version": 3
   },
   "file_extension": ".py",
   "mimetype": "text/x-python",
   "name": "python",
   "nbconvert_exporter": "python",
   "pygments_lexer": "ipython3",
   "version": "3.9.12"
  }
 },
 "nbformat": 4,
 "nbformat_minor": 5
}
